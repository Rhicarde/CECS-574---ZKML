{
  "nbformat": 4,
  "nbformat_minor": 0,
  "metadata": {
    "colab": {
      "provenance": [],
      "authorship_tag": "ABX9TyPYhKFEvc9kTxTqQV9zd9UD",
      "include_colab_link": true
    },
    "kernelspec": {
      "name": "python3",
      "display_name": "Python 3"
    },
    "language_info": {
      "name": "python"
    }
  },
  "cells": [
    {
      "cell_type": "markdown",
      "metadata": {
        "id": "view-in-github",
        "colab_type": "text"
      },
      "source": [
        "<a href=\"https://colab.research.google.com/github/Rhicarde/CECS-574---ZKML/blob/main/ZKML_for_Privacy_Preservation.ipynb\" target=\"_parent\"><img src=\"https://colab.research.google.com/assets/colab-badge.svg\" alt=\"Open In Colab\"/></a>"
      ]
    },
    {
      "cell_type": "markdown",
      "source": [
        "# Dataset\n",
        "View dataset from kaggle [here](https://www.kaggle.com/datasets/ankushpanday2/heart-attack-risk-and-prediction-dataset-in-india/data).\n",
        "\n",
        "The dataset used is representing medical and lifestyle risk factors that may lead to heart diseases. We will be using it to train a model that can ideally predict early signs of heart diseases based on the given factors."
      ],
      "metadata": {
        "id": "pVfuwlF0u5wQ"
      }
    },
    {
      "cell_type": "code",
      "source": [
        "# Downloading Dataset\n",
        "import kagglehub\n",
        "\n",
        "path = kagglehub.dataset_download(\"ankushpanday2/heart-attack-risk-and-prediction-dataset-in-india\")\n",
        "\n",
        "print(\"Path to dataset files:\", path)"
      ],
      "metadata": {
        "colab": {
          "base_uri": "https://localhost:8080/"
        },
        "id": "kSTzdFP0u9T_",
        "outputId": "fbe59540-ca26-4647-ee59-aa9fa96d0a8e"
      },
      "execution_count": 1,
      "outputs": [
        {
          "output_type": "stream",
          "name": "stdout",
          "text": [
            "Downloading from https://www.kaggle.com/api/v1/datasets/download/ankushpanday2/heart-attack-risk-and-prediction-dataset-in-india?dataset_version_number=1...\n"
          ]
        },
        {
          "output_type": "stream",
          "name": "stderr",
          "text": [
            "100%|██████████| 269k/269k [00:00<00:00, 20.9MB/s]"
          ]
        },
        {
          "output_type": "stream",
          "name": "stdout",
          "text": [
            "Extracting files...\n",
            "Path to dataset files: /root/.cache/kagglehub/datasets/ankushpanday2/heart-attack-risk-and-prediction-dataset-in-india/versions/1\n"
          ]
        },
        {
          "output_type": "stream",
          "name": "stderr",
          "text": [
            "\n"
          ]
        }
      ]
    },
    {
      "cell_type": "code",
      "source": [
        "import pandas as pd\n",
        "\n",
        "df = pd.read_csv(path + '/heart_attack_prediction_india.csv')\n",
        "df.head()"
      ],
      "metadata": {
        "colab": {
          "base_uri": "https://localhost:8080/",
          "height": 253
        },
        "id": "FXQbUgPLxtzx",
        "outputId": "1e969def-9b9c-4011-b014-00e87d69c4bc"
      },
      "execution_count": 2,
      "outputs": [
        {
          "output_type": "execute_result",
          "data": {
            "text/plain": [
              "   Patient_ID        State_Name  Age  Gender  Diabetes  Hypertension  Obesity  \\\n",
              "0           1         Rajasthan   42  Female         0             0        1   \n",
              "1           2  Himachal Pradesh   26    Male         0             0        0   \n",
              "2           3             Assam   78    Male         0             0        1   \n",
              "3           4            Odisha   58    Male         1             0        1   \n",
              "4           5         Karnataka   22    Male         0             0        0   \n",
              "\n",
              "   Smoking  Alcohol_Consumption  Physical_Activity  ...  Diastolic_BP  \\\n",
              "0        1                    0                  0  ...           119   \n",
              "1        0                    1                  1  ...           115   \n",
              "2        0                    0                  1  ...           117   \n",
              "3        0                    0                  1  ...            65   \n",
              "4        0                    0                  1  ...           109   \n",
              "\n",
              "   Air_Pollution_Exposure  Family_History  Stress_Level  Healthcare_Access  \\\n",
              "0                       1               0             4                  0   \n",
              "1                       0               0             7                  0   \n",
              "2                       0               1            10                  1   \n",
              "3                       0               0             1                  1   \n",
              "4                       0               0             9                  0   \n",
              "\n",
              "   Heart_Attack_History  Emergency_Response_Time  Annual_Income  \\\n",
              "0                     0                      157         611025   \n",
              "1                     0                      331         174527   \n",
              "2                     0                      186        1760112   \n",
              "3                     1                      324        1398213   \n",
              "4                     0                      209          97987   \n",
              "\n",
              "   Health_Insurance  Heart_Attack_Risk  \n",
              "0                 0                  0  \n",
              "1                 0                  0  \n",
              "2                 1                  0  \n",
              "3                 0                  0  \n",
              "4                 0                  1  \n",
              "\n",
              "[5 rows x 26 columns]"
            ],
            "text/html": [
              "\n",
              "  <div id=\"df-36e03656-7658-4238-b22e-d2f3f1b01fa3\" class=\"colab-df-container\">\n",
              "    <div>\n",
              "<style scoped>\n",
              "    .dataframe tbody tr th:only-of-type {\n",
              "        vertical-align: middle;\n",
              "    }\n",
              "\n",
              "    .dataframe tbody tr th {\n",
              "        vertical-align: top;\n",
              "    }\n",
              "\n",
              "    .dataframe thead th {\n",
              "        text-align: right;\n",
              "    }\n",
              "</style>\n",
              "<table border=\"1\" class=\"dataframe\">\n",
              "  <thead>\n",
              "    <tr style=\"text-align: right;\">\n",
              "      <th></th>\n",
              "      <th>Patient_ID</th>\n",
              "      <th>State_Name</th>\n",
              "      <th>Age</th>\n",
              "      <th>Gender</th>\n",
              "      <th>Diabetes</th>\n",
              "      <th>Hypertension</th>\n",
              "      <th>Obesity</th>\n",
              "      <th>Smoking</th>\n",
              "      <th>Alcohol_Consumption</th>\n",
              "      <th>Physical_Activity</th>\n",
              "      <th>...</th>\n",
              "      <th>Diastolic_BP</th>\n",
              "      <th>Air_Pollution_Exposure</th>\n",
              "      <th>Family_History</th>\n",
              "      <th>Stress_Level</th>\n",
              "      <th>Healthcare_Access</th>\n",
              "      <th>Heart_Attack_History</th>\n",
              "      <th>Emergency_Response_Time</th>\n",
              "      <th>Annual_Income</th>\n",
              "      <th>Health_Insurance</th>\n",
              "      <th>Heart_Attack_Risk</th>\n",
              "    </tr>\n",
              "  </thead>\n",
              "  <tbody>\n",
              "    <tr>\n",
              "      <th>0</th>\n",
              "      <td>1</td>\n",
              "      <td>Rajasthan</td>\n",
              "      <td>42</td>\n",
              "      <td>Female</td>\n",
              "      <td>0</td>\n",
              "      <td>0</td>\n",
              "      <td>1</td>\n",
              "      <td>1</td>\n",
              "      <td>0</td>\n",
              "      <td>0</td>\n",
              "      <td>...</td>\n",
              "      <td>119</td>\n",
              "      <td>1</td>\n",
              "      <td>0</td>\n",
              "      <td>4</td>\n",
              "      <td>0</td>\n",
              "      <td>0</td>\n",
              "      <td>157</td>\n",
              "      <td>611025</td>\n",
              "      <td>0</td>\n",
              "      <td>0</td>\n",
              "    </tr>\n",
              "    <tr>\n",
              "      <th>1</th>\n",
              "      <td>2</td>\n",
              "      <td>Himachal Pradesh</td>\n",
              "      <td>26</td>\n",
              "      <td>Male</td>\n",
              "      <td>0</td>\n",
              "      <td>0</td>\n",
              "      <td>0</td>\n",
              "      <td>0</td>\n",
              "      <td>1</td>\n",
              "      <td>1</td>\n",
              "      <td>...</td>\n",
              "      <td>115</td>\n",
              "      <td>0</td>\n",
              "      <td>0</td>\n",
              "      <td>7</td>\n",
              "      <td>0</td>\n",
              "      <td>0</td>\n",
              "      <td>331</td>\n",
              "      <td>174527</td>\n",
              "      <td>0</td>\n",
              "      <td>0</td>\n",
              "    </tr>\n",
              "    <tr>\n",
              "      <th>2</th>\n",
              "      <td>3</td>\n",
              "      <td>Assam</td>\n",
              "      <td>78</td>\n",
              "      <td>Male</td>\n",
              "      <td>0</td>\n",
              "      <td>0</td>\n",
              "      <td>1</td>\n",
              "      <td>0</td>\n",
              "      <td>0</td>\n",
              "      <td>1</td>\n",
              "      <td>...</td>\n",
              "      <td>117</td>\n",
              "      <td>0</td>\n",
              "      <td>1</td>\n",
              "      <td>10</td>\n",
              "      <td>1</td>\n",
              "      <td>0</td>\n",
              "      <td>186</td>\n",
              "      <td>1760112</td>\n",
              "      <td>1</td>\n",
              "      <td>0</td>\n",
              "    </tr>\n",
              "    <tr>\n",
              "      <th>3</th>\n",
              "      <td>4</td>\n",
              "      <td>Odisha</td>\n",
              "      <td>58</td>\n",
              "      <td>Male</td>\n",
              "      <td>1</td>\n",
              "      <td>0</td>\n",
              "      <td>1</td>\n",
              "      <td>0</td>\n",
              "      <td>0</td>\n",
              "      <td>1</td>\n",
              "      <td>...</td>\n",
              "      <td>65</td>\n",
              "      <td>0</td>\n",
              "      <td>0</td>\n",
              "      <td>1</td>\n",
              "      <td>1</td>\n",
              "      <td>1</td>\n",
              "      <td>324</td>\n",
              "      <td>1398213</td>\n",
              "      <td>0</td>\n",
              "      <td>0</td>\n",
              "    </tr>\n",
              "    <tr>\n",
              "      <th>4</th>\n",
              "      <td>5</td>\n",
              "      <td>Karnataka</td>\n",
              "      <td>22</td>\n",
              "      <td>Male</td>\n",
              "      <td>0</td>\n",
              "      <td>0</td>\n",
              "      <td>0</td>\n",
              "      <td>0</td>\n",
              "      <td>0</td>\n",
              "      <td>1</td>\n",
              "      <td>...</td>\n",
              "      <td>109</td>\n",
              "      <td>0</td>\n",
              "      <td>0</td>\n",
              "      <td>9</td>\n",
              "      <td>0</td>\n",
              "      <td>0</td>\n",
              "      <td>209</td>\n",
              "      <td>97987</td>\n",
              "      <td>0</td>\n",
              "      <td>1</td>\n",
              "    </tr>\n",
              "  </tbody>\n",
              "</table>\n",
              "<p>5 rows × 26 columns</p>\n",
              "</div>\n",
              "    <div class=\"colab-df-buttons\">\n",
              "\n",
              "  <div class=\"colab-df-container\">\n",
              "    <button class=\"colab-df-convert\" onclick=\"convertToInteractive('df-36e03656-7658-4238-b22e-d2f3f1b01fa3')\"\n",
              "            title=\"Convert this dataframe to an interactive table.\"\n",
              "            style=\"display:none;\">\n",
              "\n",
              "  <svg xmlns=\"http://www.w3.org/2000/svg\" height=\"24px\" viewBox=\"0 -960 960 960\">\n",
              "    <path d=\"M120-120v-720h720v720H120Zm60-500h600v-160H180v160Zm220 220h160v-160H400v160Zm0 220h160v-160H400v160ZM180-400h160v-160H180v160Zm440 0h160v-160H620v160ZM180-180h160v-160H180v160Zm440 0h160v-160H620v160Z\"/>\n",
              "  </svg>\n",
              "    </button>\n",
              "\n",
              "  <style>\n",
              "    .colab-df-container {\n",
              "      display:flex;\n",
              "      gap: 12px;\n",
              "    }\n",
              "\n",
              "    .colab-df-convert {\n",
              "      background-color: #E8F0FE;\n",
              "      border: none;\n",
              "      border-radius: 50%;\n",
              "      cursor: pointer;\n",
              "      display: none;\n",
              "      fill: #1967D2;\n",
              "      height: 32px;\n",
              "      padding: 0 0 0 0;\n",
              "      width: 32px;\n",
              "    }\n",
              "\n",
              "    .colab-df-convert:hover {\n",
              "      background-color: #E2EBFA;\n",
              "      box-shadow: 0px 1px 2px rgba(60, 64, 67, 0.3), 0px 1px 3px 1px rgba(60, 64, 67, 0.15);\n",
              "      fill: #174EA6;\n",
              "    }\n",
              "\n",
              "    .colab-df-buttons div {\n",
              "      margin-bottom: 4px;\n",
              "    }\n",
              "\n",
              "    [theme=dark] .colab-df-convert {\n",
              "      background-color: #3B4455;\n",
              "      fill: #D2E3FC;\n",
              "    }\n",
              "\n",
              "    [theme=dark] .colab-df-convert:hover {\n",
              "      background-color: #434B5C;\n",
              "      box-shadow: 0px 1px 3px 1px rgba(0, 0, 0, 0.15);\n",
              "      filter: drop-shadow(0px 1px 2px rgba(0, 0, 0, 0.3));\n",
              "      fill: #FFFFFF;\n",
              "    }\n",
              "  </style>\n",
              "\n",
              "    <script>\n",
              "      const buttonEl =\n",
              "        document.querySelector('#df-36e03656-7658-4238-b22e-d2f3f1b01fa3 button.colab-df-convert');\n",
              "      buttonEl.style.display =\n",
              "        google.colab.kernel.accessAllowed ? 'block' : 'none';\n",
              "\n",
              "      async function convertToInteractive(key) {\n",
              "        const element = document.querySelector('#df-36e03656-7658-4238-b22e-d2f3f1b01fa3');\n",
              "        const dataTable =\n",
              "          await google.colab.kernel.invokeFunction('convertToInteractive',\n",
              "                                                    [key], {});\n",
              "        if (!dataTable) return;\n",
              "\n",
              "        const docLinkHtml = 'Like what you see? Visit the ' +\n",
              "          '<a target=\"_blank\" href=https://colab.research.google.com/notebooks/data_table.ipynb>data table notebook</a>'\n",
              "          + ' to learn more about interactive tables.';\n",
              "        element.innerHTML = '';\n",
              "        dataTable['output_type'] = 'display_data';\n",
              "        await google.colab.output.renderOutput(dataTable, element);\n",
              "        const docLink = document.createElement('div');\n",
              "        docLink.innerHTML = docLinkHtml;\n",
              "        element.appendChild(docLink);\n",
              "      }\n",
              "    </script>\n",
              "  </div>\n",
              "\n",
              "\n",
              "<div id=\"df-d69e6524-a855-48f0-9c94-7e54373ab857\">\n",
              "  <button class=\"colab-df-quickchart\" onclick=\"quickchart('df-d69e6524-a855-48f0-9c94-7e54373ab857')\"\n",
              "            title=\"Suggest charts\"\n",
              "            style=\"display:none;\">\n",
              "\n",
              "<svg xmlns=\"http://www.w3.org/2000/svg\" height=\"24px\"viewBox=\"0 0 24 24\"\n",
              "     width=\"24px\">\n",
              "    <g>\n",
              "        <path d=\"M19 3H5c-1.1 0-2 .9-2 2v14c0 1.1.9 2 2 2h14c1.1 0 2-.9 2-2V5c0-1.1-.9-2-2-2zM9 17H7v-7h2v7zm4 0h-2V7h2v10zm4 0h-2v-4h2v4z\"/>\n",
              "    </g>\n",
              "</svg>\n",
              "  </button>\n",
              "\n",
              "<style>\n",
              "  .colab-df-quickchart {\n",
              "      --bg-color: #E8F0FE;\n",
              "      --fill-color: #1967D2;\n",
              "      --hover-bg-color: #E2EBFA;\n",
              "      --hover-fill-color: #174EA6;\n",
              "      --disabled-fill-color: #AAA;\n",
              "      --disabled-bg-color: #DDD;\n",
              "  }\n",
              "\n",
              "  [theme=dark] .colab-df-quickchart {\n",
              "      --bg-color: #3B4455;\n",
              "      --fill-color: #D2E3FC;\n",
              "      --hover-bg-color: #434B5C;\n",
              "      --hover-fill-color: #FFFFFF;\n",
              "      --disabled-bg-color: #3B4455;\n",
              "      --disabled-fill-color: #666;\n",
              "  }\n",
              "\n",
              "  .colab-df-quickchart {\n",
              "    background-color: var(--bg-color);\n",
              "    border: none;\n",
              "    border-radius: 50%;\n",
              "    cursor: pointer;\n",
              "    display: none;\n",
              "    fill: var(--fill-color);\n",
              "    height: 32px;\n",
              "    padding: 0;\n",
              "    width: 32px;\n",
              "  }\n",
              "\n",
              "  .colab-df-quickchart:hover {\n",
              "    background-color: var(--hover-bg-color);\n",
              "    box-shadow: 0 1px 2px rgba(60, 64, 67, 0.3), 0 1px 3px 1px rgba(60, 64, 67, 0.15);\n",
              "    fill: var(--button-hover-fill-color);\n",
              "  }\n",
              "\n",
              "  .colab-df-quickchart-complete:disabled,\n",
              "  .colab-df-quickchart-complete:disabled:hover {\n",
              "    background-color: var(--disabled-bg-color);\n",
              "    fill: var(--disabled-fill-color);\n",
              "    box-shadow: none;\n",
              "  }\n",
              "\n",
              "  .colab-df-spinner {\n",
              "    border: 2px solid var(--fill-color);\n",
              "    border-color: transparent;\n",
              "    border-bottom-color: var(--fill-color);\n",
              "    animation:\n",
              "      spin 1s steps(1) infinite;\n",
              "  }\n",
              "\n",
              "  @keyframes spin {\n",
              "    0% {\n",
              "      border-color: transparent;\n",
              "      border-bottom-color: var(--fill-color);\n",
              "      border-left-color: var(--fill-color);\n",
              "    }\n",
              "    20% {\n",
              "      border-color: transparent;\n",
              "      border-left-color: var(--fill-color);\n",
              "      border-top-color: var(--fill-color);\n",
              "    }\n",
              "    30% {\n",
              "      border-color: transparent;\n",
              "      border-left-color: var(--fill-color);\n",
              "      border-top-color: var(--fill-color);\n",
              "      border-right-color: var(--fill-color);\n",
              "    }\n",
              "    40% {\n",
              "      border-color: transparent;\n",
              "      border-right-color: var(--fill-color);\n",
              "      border-top-color: var(--fill-color);\n",
              "    }\n",
              "    60% {\n",
              "      border-color: transparent;\n",
              "      border-right-color: var(--fill-color);\n",
              "    }\n",
              "    80% {\n",
              "      border-color: transparent;\n",
              "      border-right-color: var(--fill-color);\n",
              "      border-bottom-color: var(--fill-color);\n",
              "    }\n",
              "    90% {\n",
              "      border-color: transparent;\n",
              "      border-bottom-color: var(--fill-color);\n",
              "    }\n",
              "  }\n",
              "</style>\n",
              "\n",
              "  <script>\n",
              "    async function quickchart(key) {\n",
              "      const quickchartButtonEl =\n",
              "        document.querySelector('#' + key + ' button');\n",
              "      quickchartButtonEl.disabled = true;  // To prevent multiple clicks.\n",
              "      quickchartButtonEl.classList.add('colab-df-spinner');\n",
              "      try {\n",
              "        const charts = await google.colab.kernel.invokeFunction(\n",
              "            'suggestCharts', [key], {});\n",
              "      } catch (error) {\n",
              "        console.error('Error during call to suggestCharts:', error);\n",
              "      }\n",
              "      quickchartButtonEl.classList.remove('colab-df-spinner');\n",
              "      quickchartButtonEl.classList.add('colab-df-quickchart-complete');\n",
              "    }\n",
              "    (() => {\n",
              "      let quickchartButtonEl =\n",
              "        document.querySelector('#df-d69e6524-a855-48f0-9c94-7e54373ab857 button');\n",
              "      quickchartButtonEl.style.display =\n",
              "        google.colab.kernel.accessAllowed ? 'block' : 'none';\n",
              "    })();\n",
              "  </script>\n",
              "</div>\n",
              "\n",
              "    </div>\n",
              "  </div>\n"
            ],
            "application/vnd.google.colaboratory.intrinsic+json": {
              "type": "dataframe",
              "variable_name": "df"
            }
          },
          "metadata": {},
          "execution_count": 2
        }
      ]
    },
    {
      "cell_type": "code",
      "source": [
        "df.info()"
      ],
      "metadata": {
        "colab": {
          "base_uri": "https://localhost:8080/"
        },
        "id": "BJj3JHyb7w8t",
        "outputId": "d4af8317-4701-4960-81fb-f24714fe13c5"
      },
      "execution_count": 3,
      "outputs": [
        {
          "output_type": "stream",
          "name": "stdout",
          "text": [
            "<class 'pandas.core.frame.DataFrame'>\n",
            "RangeIndex: 10000 entries, 0 to 9999\n",
            "Data columns (total 26 columns):\n",
            " #   Column                   Non-Null Count  Dtype \n",
            "---  ------                   --------------  ----- \n",
            " 0   Patient_ID               10000 non-null  int64 \n",
            " 1   State_Name               10000 non-null  object\n",
            " 2   Age                      10000 non-null  int64 \n",
            " 3   Gender                   10000 non-null  object\n",
            " 4   Diabetes                 10000 non-null  int64 \n",
            " 5   Hypertension             10000 non-null  int64 \n",
            " 6   Obesity                  10000 non-null  int64 \n",
            " 7   Smoking                  10000 non-null  int64 \n",
            " 8   Alcohol_Consumption      10000 non-null  int64 \n",
            " 9   Physical_Activity        10000 non-null  int64 \n",
            " 10  Diet_Score               10000 non-null  int64 \n",
            " 11  Cholesterol_Level        10000 non-null  int64 \n",
            " 12  Triglyceride_Level       10000 non-null  int64 \n",
            " 13  LDL_Level                10000 non-null  int64 \n",
            " 14  HDL_Level                10000 non-null  int64 \n",
            " 15  Systolic_BP              10000 non-null  int64 \n",
            " 16  Diastolic_BP             10000 non-null  int64 \n",
            " 17  Air_Pollution_Exposure   10000 non-null  int64 \n",
            " 18  Family_History           10000 non-null  int64 \n",
            " 19  Stress_Level             10000 non-null  int64 \n",
            " 20  Healthcare_Access        10000 non-null  int64 \n",
            " 21  Heart_Attack_History     10000 non-null  int64 \n",
            " 22  Emergency_Response_Time  10000 non-null  int64 \n",
            " 23  Annual_Income            10000 non-null  int64 \n",
            " 24  Health_Insurance         10000 non-null  int64 \n",
            " 25  Heart_Attack_Risk        10000 non-null  int64 \n",
            "dtypes: int64(24), object(2)\n",
            "memory usage: 2.0+ MB\n"
          ]
        }
      ]
    },
    {
      "cell_type": "markdown",
      "source": [
        "# Training Model\n",
        "\n",
        "The model that is used is a simple logistic regression model from Sklearn and then converted to a Tensor Model. A logistic regression model estimates the probability of an event, in this case heart disease, occuring using the given data.\n",
        "\n",
        "The model trained gets a prediction accuracy rate of 71.75%."
      ],
      "metadata": {
        "id": "SbhzzwnDunVJ"
      }
    },
    {
      "cell_type": "code",
      "execution_count": 4,
      "metadata": {
        "id": "WGmY8RaRugYu"
      },
      "outputs": [],
      "source": [
        "from sklearn.compose import ColumnTransformer\n",
        "from sklearn.model_selection import train_test_split\n",
        "from sklearn.preprocessing import StandardScaler, OneHotEncoder\n",
        "\n",
        "# Split Dataset\n",
        "x = df.drop('Heart_Attack_Risk', axis=1)\n",
        "y = df['Heart_Attack_Risk']\n",
        "\n",
        "x_train, x_test, y_train, y_test = train_test_split(x, y, test_size=0.2, random_state=2)\n",
        "\n",
        "ct = ColumnTransformer(\n",
        "    transformers= [('onehot', OneHotEncoder(drop='first'), ['State_Name', 'Gender']), # Expands number of features thrugh one hot encoding (0, 1)\n",
        "                   ('normal', StandardScaler(),\n",
        "                    ['Diastolic_BP', 'Annual_Income', 'Emergency_Response_Time', 'Systolic_BP', 'Cholesterol_Level', 'Triglyceride_Level', 'LDL_Level', 'HDL_Level']) # Keeps feature count the same\n",
        "                  ], remainder='passthrough') # Remaining columns kept as they are (no transformation)\n",
        "\n",
        "x_train = ct.fit_transform(x_train)\n",
        "x_test = ct.transform(x_test)"
      ]
    },
    {
      "cell_type": "code",
      "source": [
        "from sklearn.linear_model import LogisticRegression\n",
        "from sklearn.metrics import accuracy_score, confusion_matrix\n",
        "\n",
        "# Logistic Regression Model\n",
        "model = LogisticRegression(max_iter=2000)\n",
        "\n",
        "# Train Model\n",
        "model.fit(x_train, y_train)\n",
        "\n",
        "# Test Model Accuracy\n",
        "y_pred = model.predict(x_test)\n",
        "print(f'Accuracy Score: {accuracy_score(y_test, y_pred) * 100}%')"
      ],
      "metadata": {
        "colab": {
          "base_uri": "https://localhost:8080/"
        },
        "id": "e2yKg9qB4vB8",
        "outputId": "851a8cf0-214b-4d75-8c09-d01736f4d94d"
      },
      "execution_count": 5,
      "outputs": [
        {
          "output_type": "stream",
          "name": "stdout",
          "text": [
            "Accuracy Score: 71.75%\n"
          ]
        }
      ]
    },
    {
      "cell_type": "code",
      "source": [
        "import torch\n",
        "import torch.nn as nn\n",
        "\n",
        "\n",
        "class LogisticRegression(nn.Module):\n",
        "    def __init__(self, input_dim):\n",
        "        super(LogisticRegression, self).__init__()\n",
        "        self.linear = nn.Linear(input_dim, 1)\n",
        "\n",
        "    def forward(self, x):\n",
        "        return torch.sigmoid(self.linear(x))"
      ],
      "metadata": {
        "id": "bodk35HlD61d"
      },
      "execution_count": 6,
      "outputs": []
    },
    {
      "cell_type": "code",
      "source": [
        "# Convert to Torch Model for EZKL\n",
        "\n",
        "# Get sklearn model weights and bias\n",
        "weights = model.coef_  # Shape: (1, n_features)\n",
        "bias = model.intercept_  # Shape: (1,)\n",
        "\n",
        "# Create Torch model\n",
        "input_dim = x_train.shape[1]\n",
        "torch_model = LogisticRegression(input_dim)\n",
        "\n",
        "# Convert sklearn weights to PyTorch tensors and assign them\n",
        "torch_model.linear.weight = nn.Parameter(torch.tensor(weights, dtype=torch.float32))\n",
        "torch_model.linear.bias = nn.Parameter(torch.tensor(bias, dtype=torch.float32))"
      ],
      "metadata": {
        "id": "-TQ5NZc2Ks0H"
      },
      "execution_count": 7,
      "outputs": []
    },
    {
      "cell_type": "code",
      "source": [
        "# Testing torch model to ensure same result\n",
        "\n",
        "# Convert test data to tensor\n",
        "x_test_torch = torch.tensor(x_test, dtype=torch.float32)\n",
        "y_test_torch = torch.tensor(y_test.tolist(), dtype=torch.float32)\n",
        "\n",
        "torch_model.eval()\n",
        "\n",
        "with torch.no_grad():\n",
        "  # Get model predictions and convert them to int (0 or 1 tells us no or yes to heart disease risk)\n",
        "  y_pred_probs = torch_model(x_test_torch).squeeze()\n",
        "  y_pred_labels = (y_pred_probs >= 0.5).int()  # Convert to binary labels\n",
        "\n",
        "# Check accuracy\n",
        "accuracy = accuracy_score(y_test_torch, y_pred_labels.numpy())  # Compare with true labels\n",
        "\n",
        "print(f\"PyTorch Accuracy: {accuracy * 100:.2f}%\")"
      ],
      "metadata": {
        "colab": {
          "base_uri": "https://localhost:8080/"
        },
        "id": "9jDyN_T2K9Pt",
        "outputId": "56950dd2-573f-44eb-c29f-6a37ee008ff8"
      },
      "execution_count": 8,
      "outputs": [
        {
          "output_type": "stream",
          "name": "stdout",
          "text": [
            "PyTorch Accuracy: 71.75%\n"
          ]
        }
      ]
    },
    {
      "cell_type": "markdown",
      "source": [
        "# Implementing EZKL circuit"
      ],
      "metadata": {
        "id": "s0cKeEHTus4K"
      }
    },
    {
      "cell_type": "code",
      "source": [
        "# check if notebook is in colab\n",
        "try:\n",
        "    import google.colab\n",
        "    import subprocess\n",
        "    import sys\n",
        "    subprocess.check_call([sys.executable, \"-m\", \"pip\", \"install\", \"ezkl\"])\n",
        "    subprocess.check_call([sys.executable, \"-m\", \"pip\", \"install\", \"onnx\"])\n",
        "\n",
        "# rely on local installation of ezkl if the notebook is not in colab\n",
        "except:\n",
        "    pass\n",
        "\n",
        "import os\n",
        "import json\n",
        "import ezkl"
      ],
      "metadata": {
        "id": "BFGBKqwfuvi4"
      },
      "execution_count": 9,
      "outputs": []
    },
    {
      "cell_type": "code",
      "source": [
        "# Required Files for EZKL\n",
        "model_path = os.path.join('network.onnx')\n",
        "data_path = os.path.join('input.json')\n",
        "cal_data_path = os.path.join('calibration.json')"
      ],
      "metadata": {
        "id": "rbT-S3mU_8JO"
      },
      "execution_count": 10,
      "outputs": []
    },
    {
      "cell_type": "code",
      "source": [
        "# Create a random input\n",
        "x = torch.tensor(x_test[0], dtype=torch.float32).unsqueeze(0)"
      ],
      "metadata": {
        "id": "SQt_QZ_fPef0"
      },
      "execution_count": 11,
      "outputs": []
    },
    {
      "cell_type": "code",
      "source": [
        "# Convert model to ONNX\n",
        "\n",
        "# Export the model\n",
        "torch.onnx.export(torch_model,                                   # model being run\n",
        "                  x,                                             # model input\n",
        "                  model_path,                                    # where to save the model\n",
        "                  export_params=True,                            # store the trained parameter weights inside the model file\n",
        "                  opset_version=10,                              # the ONNX version to export the model to\n",
        "                  do_constant_folding=True,                      # whether to execute constant folding for optimization\n",
        "                  input_names = ['input'],                       # the model's input names\n",
        "                  output_names = ['output'],                     # the model's output names\n",
        "                  dynamic_axes={'input' : {0 : 'batch_size'},    # variable length axes\n",
        "                                'output' : {0 : 'batch_size'}})\n",
        "\n",
        "data_array = ((x).detach().numpy()).reshape([-1]).tolist()\n",
        "\n",
        "data = dict(input_data = [data_array])\n",
        "\n",
        "# Serialize data into file:\n",
        "json.dump(data, open(data_path, 'w'))"
      ],
      "metadata": {
        "id": "8s7cyqrSAQXR"
      },
      "execution_count": 12,
      "outputs": []
    },
    {
      "cell_type": "code",
      "source": [
        "!RUST_LOG=trace\n",
        "# TODO: Dictionary outputs\n",
        "res = ezkl.gen_settings()\n",
        "assert res == True"
      ],
      "metadata": {
        "id": "WGe8SIwkBEYE"
      },
      "execution_count": 13,
      "outputs": []
    },
    {
      "cell_type": "code",
      "source": [
        "# use the test set to calibrate the circuit\n",
        "cal_data = dict(input_data = x_test_torch.flatten().tolist())\n",
        "\n",
        "# Serialize calibration data into file:\n",
        "json.dump(data, open(cal_data_path, 'w'))\n",
        "\n",
        "# Optimize for resources, we cap logrows at 12 to reduce setup and proving time, at the expense of accuracy\n",
        "# You may want to increase the max logrows if accuracy is a concern\n",
        "res = await ezkl.calibrate_settings(target = \"resources\", max_logrows = 50, scales = [14])"
      ],
      "metadata": {
        "colab": {
          "base_uri": "https://localhost:8080/"
        },
        "id": "uT1Xo_QrNMbz",
        "outputId": "788bec1a-33c3-4400-aa02-995ad32c26a8"
      },
      "execution_count": 14,
      "outputs": [
        {
          "output_type": "stream",
          "name": "stderr",
          "text": [
            "WARNING:ezkl.circuit.table:Using 6 columns for non-linearity table.\n",
            "WARNING:ezkl.circuit.table:Using 12 columns for non-linearity table.\n",
            "WARNING:ezkl.execute:\n",
            "\n",
            " <------------- Numerical Fidelity Report (input_scale: 14, param_scale: 14, scale_input_multiplier: 1) ------------->\n",
            "\n",
            "+-------------+--------------+-------------+-------------+----------------+------------------+---------------+---------------+--------------------+--------------------+------------------------+\n",
            "| mean_error  | median_error | max_error   | min_error   | mean_abs_error | median_abs_error | max_abs_error | min_abs_error | mean_squared_error | mean_percent_error | mean_abs_percent_error |\n",
            "+-------------+--------------+-------------+-------------+----------------+------------------+---------------+---------------+--------------------+--------------------+------------------------+\n",
            "| 0.025770724 | 0.025770724  | 0.025770724 | 0.025770724 | 0.025770724    | 0.025770724      | 0.025770724   | 0.025770724   | 0.0006641302       | 0.07327505         | 0.07327505             |\n",
            "+-------------+--------------+-------------+-------------+----------------+------------------+---------------+---------------+--------------------+--------------------+------------------------+\n",
            "\n",
            "\n"
          ]
        }
      ]
    },
    {
      "cell_type": "code",
      "source": [
        "# Compiles Onnx model to format for ZKP\n",
        "res = ezkl.compile_circuit()\n",
        "assert res == True"
      ],
      "metadata": {
        "id": "IlWR-WZcNdhK"
      },
      "execution_count": 15,
      "outputs": []
    },
    {
      "cell_type": "code",
      "source": [
        "# SRS is a cryptographic setup that is required for proof generation\n",
        "res = await ezkl.get_srs()"
      ],
      "metadata": {
        "id": "dHL9cEoDPC5f"
      },
      "execution_count": 16,
      "outputs": []
    },
    {
      "cell_type": "code",
      "source": [
        "# Sets up Circuit - generates the proving and verifying keys\n",
        "res = ezkl.setup()\n",
        "assert res == True"
      ],
      "metadata": {
        "id": "Jz4JZiYWPFie"
      },
      "execution_count": 17,
      "outputs": []
    },
    {
      "cell_type": "code",
      "source": [
        "import onnx\n",
        "import networkx as nx\n",
        "import matplotlib.pyplot as plt\n",
        "\n",
        "# Load ONNX model\n",
        "model = onnx.load(\"network.onnx\")\n",
        "graph = model.graph\n",
        "\n",
        "# Create a directed graph\n",
        "G = nx.DiGraph()\n",
        "\n",
        "# Add nodes (layers/operations)\n",
        "for node in graph.node:\n",
        "    G.add_node(node.name, label=node.op_type)\n",
        "\n",
        "# Add edges (connections between layers)\n",
        "for node in graph.node:\n",
        "    for input_name in node.input:\n",
        "        for output_name in node.output:\n",
        "            G.add_edge(input_name, output_name)\n",
        "\n",
        "# Draw the graph\n",
        "plt.figure(figsize=(12, 8))\n",
        "pos = nx.spring_layout(G)\n",
        "labels = nx.get_node_attributes(G, \"label\")\n",
        "nx.draw(G, pos, with_labels=True, node_size=3000, node_color=\"lightblue\", font_size=10)\n",
        "nx.draw_networkx_labels(G, pos, labels)\n",
        "plt.title(\"ONNX Model Representation (EZKL Circuit)\")\n",
        "plt.show()"
      ],
      "metadata": {
        "colab": {
          "base_uri": "https://localhost:8080/",
          "height": 859
        },
        "id": "ZbeTNv-je-FR",
        "outputId": "5617aecd-b991-484a-b9ac-7727b505d6f3"
      },
      "execution_count": 18,
      "outputs": [
        {
          "output_type": "display_data",
          "data": {
            "text/plain": [
              "<Figure size 1200x800 with 1 Axes>"
            ],
            "image/png": "[encoded data removed]"
          },
          "metadata": {}
        }
      ]
    },
    {
      "cell_type": "markdown",
      "source": [
        "# Create Witness\n",
        "The witness represents the input data nad intermediate values of the circuit (weights, bias) that prove the correctness of the computation"
      ],
      "metadata": {
        "id": "qsCRuKDlQUrO"
      }
    },
    {
      "cell_type": "code",
      "source": [
        "# Generate the Witness for the proof\n",
        "\n",
        "# Generate the witness file\n",
        "witness_path = os.path.join('witness.json')\n",
        "\n",
        "res = await ezkl.gen_witness()\n",
        "assert os.path.isfile(witness_path)"
      ],
      "metadata": {
        "id": "uJd8jRYPPHa1"
      },
      "execution_count": 19,
      "outputs": []
    },
    {
      "cell_type": "code",
      "source": [
        "# Generate the proof\n",
        "proof_path = os.path.join('proof.json')\n",
        "\n",
        "proof = ezkl.prove(proof_type=\"single\", proof_path=proof_path) # Generate a single proof\n",
        "\n",
        "print(proof)\n",
        "assert os.path.isfile(proof_path)"
      ],
      "metadata": {
        "colab": {
          "base_uri": "https://localhost:8080/"
        },
        "id": "4mHGKwjqPMKu",
        "outputId": "46532806-ead6-4491-9996-e470f8be29a5"
      },
      "execution_count": 20,
      "outputs": [
        {
          "output_type": "stream",
          "name": "stdout",
          "text": [
            "{'instances': [['dc14000000000000000000000000000000000000000000000000000000000000']], 'proof': '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', 'transcript_type': 'EVM'}\n"
          ]
        }
      ]
    },
    {
      "cell_type": "code",
      "source": [
        "# Verify proof\n",
        "res = ezkl.verify()\n",
        "\n",
        "assert res == True # Proof verified if passed\n",
        "print(\"verified\")"
      ],
      "metadata": {
        "colab": {
          "base_uri": "https://localhost:8080/"
        },
        "id": "GLpE8m8mPN-N",
        "outputId": "54b3739d-c061-4ccb-9a90-a6cb30e40583"
      },
      "execution_count": 21,
      "outputs": [
        {
          "output_type": "stream",
          "name": "stdout",
          "text": [
            "verified\n"
          ]
        }
      ]
    },
    {
      "cell_type": "code",
      "source": [
        "# Load the witness file\n",
        "witness_path = \"witness.json\"\n",
        "\n",
        "with open(witness_path, \"r\") as f:\n",
        "    witness_data = json.load(f)\n",
        "\n",
        "# Extract the model’s output from the witness\n",
        "model_output = witness_data.get(\"outputs\", [])\n",
        "\n",
        "# Print the extracted prediction\n",
        "print(\"Model Prediction:\", model_output[0][0])"
      ],
      "metadata": {
        "colab": {
          "base_uri": "https://localhost:8080/"
        },
        "id": "PeSmjsMPEmaH",
        "outputId": "0b22975c-5e50-4f45-9cbf-363f90d8085c"
      },
      "execution_count": 22,
      "outputs": [
        {
          "output_type": "stream",
          "name": "stdout",
          "text": [
            "Model Prediction: dc14000000000000000000000000000000000000000000000000000000000000\n"
          ]
        }
      ]
    },
    {
      "cell_type": "code",
      "source": [
        "import struct\n",
        "\n",
        "# Convert hex to bytes\n",
        "byte_data = bytes.fromhex(model_output[0][0])\n",
        "\n",
        "# Convert bytes to a float (assuming IEEE 754 double-precision format)\n",
        "predicted_prob = struct.unpack('d', byte_data[:8])[0]\n",
        "\n",
        "# Print the prediction probability\n",
        "print(\"Predicted Probability:\", predicted_prob)\n",
        "\n",
        "# Convert probability to class label (0 or 1)\n",
        "predicted_class = 1 if predicted_prob >= 0.5 else 0\n",
        "print(\"Predicted Risk:\", predicted_class)"
      ],
      "metadata": {
        "colab": {
          "base_uri": "https://localhost:8080/"
        },
        "id": "BXnomRbRFMrx",
        "outputId": "21986dd4-212c-49ec-a2a3-17461ebb2c28"
      },
      "execution_count": 23,
      "outputs": [
        {
          "output_type": "stream",
          "name": "stdout",
          "text": [
            "Predicted Probability: 2.6383e-320\n",
            "Predicted Risk: 0\n"
          ]
        }
      ]
    },
    {
      "cell_type": "code",
      "source": [
        "# Get model prediction on same data\n",
        "i = 0\n",
        "\n",
        "y_pred = torch_model(x_test_torch[i]).squeeze()\n",
        "\n",
        "print(\"Predicted Risk:\", 1 if y_pred.item() > 0.5 else 0)"
      ],
      "metadata": {
        "colab": {
          "base_uri": "https://localhost:8080/"
        },
        "id": "WnkD0-OaKT7f",
        "outputId": "7f1f78c4-ac4c-435c-d79e-3947ea533e93"
      },
      "execution_count": 24,
      "outputs": [
        {
          "output_type": "stream",
          "name": "stdout",
          "text": [
            "Predicted Risk: 0\n"
          ]
        }
      ]
    },
    {
      "cell_type": "markdown",
      "source": [
        "# Create Verifier"
      ],
      "metadata": {
        "id": "OfFw369-QYlj"
      }
    },
    {
      "cell_type": "code",
      "source": [
        "# Check if notebook is in colab\n",
        "try:\n",
        "    import google.colab\n",
        "    import subprocess\n",
        "    import sys\n",
        "    subprocess.check_call([sys.executable, \"-m\", \"pip\", \"install\", \"solc-select\"])\n",
        "    !solc-select install 0.8.20\n",
        "    !solc-select use 0.8.20\n",
        "    !solc --version\n",
        "\n",
        "# Rely on local installation if the notebook is not in colab\n",
        "except:\n",
        "    pass"
      ],
      "metadata": {
        "colab": {
          "base_uri": "https://localhost:8080/"
        },
        "id": "erNj_NIFPPbn",
        "outputId": "44bcac95-67e7-46ab-9b5a-aac11ae5a264"
      },
      "execution_count": 25,
      "outputs": [
        {
          "output_type": "stream",
          "name": "stdout",
          "text": [
            "Installing solc '0.8.20'...\n",
            "Version '0.8.20' installed.\n",
            "Switched global version to 0.8.20\n",
            "solc, the solidity compiler commandline interface\n",
            "Version: 0.8.20+commit.a1b79de6.Linux.g++\n"
          ]
        }
      ]
    },
    {
      "cell_type": "code",
      "source": [
        "# Generates smart contract with contains the logic for verifying ZK proofs on Ethereum\n",
        "sol_code_path = os.path.join('Verifier.sol')\n",
        "abi_path = os.path.join('Verifier.abi')\n",
        "\n",
        "# Compiles a Solidity verifier based on the EZKL-generated proof system\n",
        "res = await ezkl.create_evm_verifier(\n",
        "        sol_code_path=sol_code_path,\n",
        "        abi_path=abi_path,\n",
        "    )\n",
        "\n",
        "assert res == True\n",
        "assert os.path.isfile(sol_code_path)"
      ],
      "metadata": {
        "id": "Y9DxPlBcQctY"
      },
      "execution_count": 26,
      "outputs": []
    },
    {
      "cell_type": "code",
      "source": [
        "# Public inputs that the Ethereum smart contract will use for verification\n",
        "\n",
        "onchain_input_array = []\n",
        "\n",
        "formatted_output = \"[\"\n",
        "for i, value in enumerate(proof[\"instances\"]):\n",
        "    for j, field_element in enumerate(value):\n",
        "        onchain_input_array.append(ezkl.felt_to_big_endian(field_element))\n",
        "        formatted_output += '\"' + str(onchain_input_array[-1]) + '\"'\n",
        "        if j != len(value) - 1:\n",
        "            formatted_output += \", \"\n",
        "    if i != len(proof[\"instances\"]) - 1:\n",
        "        formatted_output += \", \"\n",
        "formatted_output += \"]\"\n",
        "\n",
        "# This will be the values you use onchain\n",
        "# Copy them over to remix and see if they verify\n",
        "# What happens when you change a value?\n",
        "print(\"pubInputs: \", formatted_output)\n",
        "print(\"proof: \", proof[\"proof\"])"
      ],
      "metadata": {
        "colab": {
          "base_uri": "https://localhost:8080/"
        },
        "id": "pJtaBffzQqVp",
        "outputId": "fab67362-0c79-4a5f-8325-676c3176d861"
      },
      "execution_count": 27,
      "outputs": [
        {
          "output_type": "stream",
          "name": "stdout",
          "text": [
            "pubInputs:  [\"0x00000000000000000000000000000000000000000000000000000000000014dc\"]\n",
            "proof:  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\n"
          ]
        }
      ]
    }
  ]
}