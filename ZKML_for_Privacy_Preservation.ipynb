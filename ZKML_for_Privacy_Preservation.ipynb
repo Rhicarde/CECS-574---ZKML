{
  "nbformat": 4,
  "nbformat_minor": 0,
  "metadata": {
    "colab": {
      "provenance": [],
      "authorship_tag": "ABX9TyM62mu0CaGuq9yQO/iCejZ2",
      "include_colab_link": true
    },
    "kernelspec": {
      "name": "python3",
      "display_name": "Python 3"
    },
    "language_info": {
      "name": "python"
    }
  },
  "cells": [
    {
      "cell_type": "markdown",
      "metadata": {
        "id": "view-in-github",
        "colab_type": "text"
      },
      "source": [
        "<a href=\"https://colab.research.google.com/github/Rhicarde/CECS-574---ZKML/blob/main/ZKML_for_Privacy_Preservation.ipynb\" target=\"_parent\"><img src=\"https://colab.research.google.com/assets/colab-badge.svg\" alt=\"Open In Colab\"/></a>"
      ]
    },
    {
      "cell_type": "code",
      "source": [
        "pip install skl2onnx onnx onnxruntime"
      ],
      "metadata": {
        "colab": {
          "base_uri": "https://localhost:8080/"
        },
        "id": "vzxeXKrlBwMM",
        "outputId": "99596647-d265-4b57-f875-84aeeba7c443"
      },
      "execution_count": null,
      "outputs": [
        {
          "output_type": "stream",
          "name": "stdout",
          "text": [
            "Requirement already satisfied: skl2onnx in /usr/local/lib/python3.11/dist-packages (1.18.0)\n",
            "Requirement already satisfied: onnx in /usr/local/lib/python3.11/dist-packages (1.17.0)\n",
            "Requirement already satisfied: onnxruntime in /usr/local/lib/python3.11/dist-packages (1.21.0)\n",
            "Requirement already satisfied: scikit-learn>=1.1 in /usr/local/lib/python3.11/dist-packages (from skl2onnx) (1.6.1)\n",
            "Requirement already satisfied: onnxconverter-common>=1.7.0 in /usr/local/lib/python3.11/dist-packages (from skl2onnx) (1.14.0)\n",
            "Requirement already satisfied: numpy>=1.20 in /usr/local/lib/python3.11/dist-packages (from onnx) (1.26.4)\n",
            "Requirement already satisfied: protobuf>=3.20.2 in /usr/local/lib/python3.11/dist-packages (from onnx) (3.20.2)\n",
            "Requirement already satisfied: coloredlogs in /usr/local/lib/python3.11/dist-packages (from onnxruntime) (15.0.1)\n",
            "Requirement already satisfied: flatbuffers in /usr/local/lib/python3.11/dist-packages (from onnxruntime) (25.2.10)\n",
            "Requirement already satisfied: packaging in /usr/local/lib/python3.11/dist-packages (from onnxruntime) (24.2)\n",
            "Requirement already satisfied: sympy in /usr/local/lib/python3.11/dist-packages (from onnxruntime) (1.13.1)\n",
            "Requirement already satisfied: scipy>=1.6.0 in /usr/local/lib/python3.11/dist-packages (from scikit-learn>=1.1->skl2onnx) (1.13.1)\n",
            "Requirement already satisfied: joblib>=1.2.0 in /usr/local/lib/python3.11/dist-packages (from scikit-learn>=1.1->skl2onnx) (1.4.2)\n",
            "Requirement already satisfied: threadpoolctl>=3.1.0 in /usr/local/lib/python3.11/dist-packages (from scikit-learn>=1.1->skl2onnx) (3.5.0)\n",
            "Requirement already satisfied: humanfriendly>=9.1 in /usr/local/lib/python3.11/dist-packages (from coloredlogs->onnxruntime) (10.0)\n",
            "Requirement already satisfied: mpmath<1.4,>=1.1.0 in /usr/local/lib/python3.11/dist-packages (from sympy->onnxruntime) (1.3.0)\n"
          ]
        }
      ]
    },
    {
      "cell_type": "markdown",
      "source": [
        "# Dataset\n",
        "View dataset from kaggle [here](https://www.kaggle.com/datasets/ankushpanday2/heart-attack-risk-and-prediction-dataset-in-india/data).\n",
        "\n",
        "The dataset used is representing medical and lifestyle risk factors that may lead to heart diseases. We will be using it to train a model that can ideally predict early signs of heart diseases based on the given factors."
      ],
      "metadata": {
        "id": "pVfuwlF0u5wQ"
      }
    },
    {
      "cell_type": "code",
      "source": [
        "# Downloading Dataset\n",
        "import kagglehub\n",
        "\n",
        "path = kagglehub.dataset_download(\"ankushpanday2/heart-attack-risk-and-prediction-dataset-in-india\")\n",
        "\n",
        "print(\"Path to dataset files:\", path)"
      ],
      "metadata": {
        "colab": {
          "base_uri": "https://localhost:8080/"
        },
        "id": "kSTzdFP0u9T_",
        "outputId": "61920265-6b19-47ad-85a7-16feb34fec81"
      },
      "execution_count": null,
      "outputs": [
        {
          "output_type": "stream",
          "name": "stdout",
          "text": [
            "Path to dataset files: /root/.cache/kagglehub/datasets/ankushpanday2/heart-attack-risk-and-prediction-dataset-in-india/versions/1\n"
          ]
        }
      ]
    },
    {
      "cell_type": "code",
      "source": [
        "import pandas as pd\n",
        "\n",
        "df = pd.read_csv(path + '/heart_attack_prediction_india.csv')\n",
        "df.head()"
      ],
      "metadata": {
        "colab": {
          "base_uri": "https://localhost:8080/",
          "height": 236
        },
        "id": "FXQbUgPLxtzx",
        "outputId": "937d14b0-bf1c-4387-c6d6-1e2d79c16691"
      },
      "execution_count": null,
      "outputs": [
        {
          "output_type": "execute_result",
          "data": {
            "text/plain": [
              "   Patient_ID        State_Name  Age  Gender  Diabetes  Hypertension  Obesity  \\\n",
              "0           1         Rajasthan   42  Female         0             0        1   \n",
              "1           2  Himachal Pradesh   26    Male         0             0        0   \n",
              "2           3             Assam   78    Male         0             0        1   \n",
              "3           4            Odisha   58    Male         1             0        1   \n",
              "4           5         Karnataka   22    Male         0             0        0   \n",
              "\n",
              "   Smoking  Alcohol_Consumption  Physical_Activity  ...  Diastolic_BP  \\\n",
              "0        1                    0                  0  ...           119   \n",
              "1        0                    1                  1  ...           115   \n",
              "2        0                    0                  1  ...           117   \n",
              "3        0                    0                  1  ...            65   \n",
              "4        0                    0                  1  ...           109   \n",
              "\n",
              "   Air_Pollution_Exposure  Family_History  Stress_Level  Healthcare_Access  \\\n",
              "0                       1               0             4                  0   \n",
              "1                       0               0             7                  0   \n",
              "2                       0               1            10                  1   \n",
              "3                       0               0             1                  1   \n",
              "4                       0               0             9                  0   \n",
              "\n",
              "   Heart_Attack_History  Emergency_Response_Time  Annual_Income  \\\n",
              "0                     0                      157         611025   \n",
              "1                     0                      331         174527   \n",
              "2                     0                      186        1760112   \n",
              "3                     1                      324        1398213   \n",
              "4                     0                      209          97987   \n",
              "\n",
              "   Health_Insurance  Heart_Attack_Risk  \n",
              "0                 0                  0  \n",
              "1                 0                  0  \n",
              "2                 1                  0  \n",
              "3                 0                  0  \n",
              "4                 0                  1  \n",
              "\n",
              "[5 rows x 26 columns]"
            ],
            "text/html": [
              "\n",
              "  <div id=\"df-cc218f40-24a4-4cd9-ab39-5eadb2b0debc\" class=\"colab-df-container\">\n",
              "    <div>\n",
              "<style scoped>\n",
              "    .dataframe tbody tr th:only-of-type {\n",
              "        vertical-align: middle;\n",
              "    }\n",
              "\n",
              "    .dataframe tbody tr th {\n",
              "        vertical-align: top;\n",
              "    }\n",
              "\n",
              "    .dataframe thead th {\n",
              "        text-align: right;\n",
              "    }\n",
              "</style>\n",
              "<table border=\"1\" class=\"dataframe\">\n",
              "  <thead>\n",
              "    <tr style=\"text-align: right;\">\n",
              "      <th></th>\n",
              "      <th>Patient_ID</th>\n",
              "      <th>State_Name</th>\n",
              "      <th>Age</th>\n",
              "      <th>Gender</th>\n",
              "      <th>Diabetes</th>\n",
              "      <th>Hypertension</th>\n",
              "      <th>Obesity</th>\n",
              "      <th>Smoking</th>\n",
              "      <th>Alcohol_Consumption</th>\n",
              "      <th>Physical_Activity</th>\n",
              "      <th>...</th>\n",
              "      <th>Diastolic_BP</th>\n",
              "      <th>Air_Pollution_Exposure</th>\n",
              "      <th>Family_History</th>\n",
              "      <th>Stress_Level</th>\n",
              "      <th>Healthcare_Access</th>\n",
              "      <th>Heart_Attack_History</th>\n",
              "      <th>Emergency_Response_Time</th>\n",
              "      <th>Annual_Income</th>\n",
              "      <th>Health_Insurance</th>\n",
              "      <th>Heart_Attack_Risk</th>\n",
              "    </tr>\n",
              "  </thead>\n",
              "  <tbody>\n",
              "    <tr>\n",
              "      <th>0</th>\n",
              "      <td>1</td>\n",
              "      <td>Rajasthan</td>\n",
              "      <td>42</td>\n",
              "      <td>Female</td>\n",
              "      <td>0</td>\n",
              "      <td>0</td>\n",
              "      <td>1</td>\n",
              "      <td>1</td>\n",
              "      <td>0</td>\n",
              "      <td>0</td>\n",
              "      <td>...</td>\n",
              "      <td>119</td>\n",
              "      <td>1</td>\n",
              "      <td>0</td>\n",
              "      <td>4</td>\n",
              "      <td>0</td>\n",
              "      <td>0</td>\n",
              "      <td>157</td>\n",
              "      <td>611025</td>\n",
              "      <td>0</td>\n",
              "      <td>0</td>\n",
              "    </tr>\n",
              "    <tr>\n",
              "      <th>1</th>\n",
              "      <td>2</td>\n",
              "      <td>Himachal Pradesh</td>\n",
              "      <td>26</td>\n",
              "      <td>Male</td>\n",
              "      <td>0</td>\n",
              "      <td>0</td>\n",
              "      <td>0</td>\n",
              "      <td>0</td>\n",
              "      <td>1</td>\n",
              "      <td>1</td>\n",
              "      <td>...</td>\n",
              "      <td>115</td>\n",
              "      <td>0</td>\n",
              "      <td>0</td>\n",
              "      <td>7</td>\n",
              "      <td>0</td>\n",
              "      <td>0</td>\n",
              "      <td>331</td>\n",
              "      <td>174527</td>\n",
              "      <td>0</td>\n",
              "      <td>0</td>\n",
              "    </tr>\n",
              "    <tr>\n",
              "      <th>2</th>\n",
              "      <td>3</td>\n",
              "      <td>Assam</td>\n",
              "      <td>78</td>\n",
              "      <td>Male</td>\n",
              "      <td>0</td>\n",
              "      <td>0</td>\n",
              "      <td>1</td>\n",
              "      <td>0</td>\n",
              "      <td>0</td>\n",
              "      <td>1</td>\n",
              "      <td>...</td>\n",
              "      <td>117</td>\n",
              "      <td>0</td>\n",
              "      <td>1</td>\n",
              "      <td>10</td>\n",
              "      <td>1</td>\n",
              "      <td>0</td>\n",
              "      <td>186</td>\n",
              "      <td>1760112</td>\n",
              "      <td>1</td>\n",
              "      <td>0</td>\n",
              "    </tr>\n",
              "    <tr>\n",
              "      <th>3</th>\n",
              "      <td>4</td>\n",
              "      <td>Odisha</td>\n",
              "      <td>58</td>\n",
              "      <td>Male</td>\n",
              "      <td>1</td>\n",
              "      <td>0</td>\n",
              "      <td>1</td>\n",
              "      <td>0</td>\n",
              "      <td>0</td>\n",
              "      <td>1</td>\n",
              "      <td>...</td>\n",
              "      <td>65</td>\n",
              "      <td>0</td>\n",
              "      <td>0</td>\n",
              "      <td>1</td>\n",
              "      <td>1</td>\n",
              "      <td>1</td>\n",
              "      <td>324</td>\n",
              "      <td>1398213</td>\n",
              "      <td>0</td>\n",
              "      <td>0</td>\n",
              "    </tr>\n",
              "    <tr>\n",
              "      <th>4</th>\n",
              "      <td>5</td>\n",
              "      <td>Karnataka</td>\n",
              "      <td>22</td>\n",
              "      <td>Male</td>\n",
              "      <td>0</td>\n",
              "      <td>0</td>\n",
              "      <td>0</td>\n",
              "      <td>0</td>\n",
              "      <td>0</td>\n",
              "      <td>1</td>\n",
              "      <td>...</td>\n",
              "      <td>109</td>\n",
              "      <td>0</td>\n",
              "      <td>0</td>\n",
              "      <td>9</td>\n",
              "      <td>0</td>\n",
              "      <td>0</td>\n",
              "      <td>209</td>\n",
              "      <td>97987</td>\n",
              "      <td>0</td>\n",
              "      <td>1</td>\n",
              "    </tr>\n",
              "  </tbody>\n",
              "</table>\n",
              "<p>5 rows × 26 columns</p>\n",
              "</div>\n",
              "    <div class=\"colab-df-buttons\">\n",
              "\n",
              "  <div class=\"colab-df-container\">\n",
              "    <button class=\"colab-df-convert\" onclick=\"convertToInteractive('df-cc218f40-24a4-4cd9-ab39-5eadb2b0debc')\"\n",
              "            title=\"Convert this dataframe to an interactive table.\"\n",
              "            style=\"display:none;\">\n",
              "\n",
              "  <svg xmlns=\"http://www.w3.org/2000/svg\" height=\"24px\" viewBox=\"0 -960 960 960\">\n",
              "    <path d=\"M120-120v-720h720v720H120Zm60-500h600v-160H180v160Zm220 220h160v-160H400v160Zm0 220h160v-160H400v160ZM180-400h160v-160H180v160Zm440 0h160v-160H620v160ZM180-180h160v-160H180v160Zm440 0h160v-160H620v160Z\"/>\n",
              "  </svg>\n",
              "    </button>\n",
              "\n",
              "  <style>\n",
              "    .colab-df-container {\n",
              "      display:flex;\n",
              "      gap: 12px;\n",
              "    }\n",
              "\n",
              "    .colab-df-convert {\n",
              "      background-color: #E8F0FE;\n",
              "      border: none;\n",
              "      border-radius: 50%;\n",
              "      cursor: pointer;\n",
              "      display: none;\n",
              "      fill: #1967D2;\n",
              "      height: 32px;\n",
              "      padding: 0 0 0 0;\n",
              "      width: 32px;\n",
              "    }\n",
              "\n",
              "    .colab-df-convert:hover {\n",
              "      background-color: #E2EBFA;\n",
              "      box-shadow: 0px 1px 2px rgba(60, 64, 67, 0.3), 0px 1px 3px 1px rgba(60, 64, 67, 0.15);\n",
              "      fill: #174EA6;\n",
              "    }\n",
              "\n",
              "    .colab-df-buttons div {\n",
              "      margin-bottom: 4px;\n",
              "    }\n",
              "\n",
              "    [theme=dark] .colab-df-convert {\n",
              "      background-color: #3B4455;\n",
              "      fill: #D2E3FC;\n",
              "    }\n",
              "\n",
              "    [theme=dark] .colab-df-convert:hover {\n",
              "      background-color: #434B5C;\n",
              "      box-shadow: 0px 1px 3px 1px rgba(0, 0, 0, 0.15);\n",
              "      filter: drop-shadow(0px 1px 2px rgba(0, 0, 0, 0.3));\n",
              "      fill: #FFFFFF;\n",
              "    }\n",
              "  </style>\n",
              "\n",
              "    <script>\n",
              "      const buttonEl =\n",
              "        document.querySelector('#df-cc218f40-24a4-4cd9-ab39-5eadb2b0debc button.colab-df-convert');\n",
              "      buttonEl.style.display =\n",
              "        google.colab.kernel.accessAllowed ? 'block' : 'none';\n",
              "\n",
              "      async function convertToInteractive(key) {\n",
              "        const element = document.querySelector('#df-cc218f40-24a4-4cd9-ab39-5eadb2b0debc');\n",
              "        const dataTable =\n",
              "          await google.colab.kernel.invokeFunction('convertToInteractive',\n",
              "                                                    [key], {});\n",
              "        if (!dataTable) return;\n",
              "\n",
              "        const docLinkHtml = 'Like what you see? Visit the ' +\n",
              "          '<a target=\"_blank\" href=https://colab.research.google.com/notebooks/data_table.ipynb>data table notebook</a>'\n",
              "          + ' to learn more about interactive tables.';\n",
              "        element.innerHTML = '';\n",
              "        dataTable['output_type'] = 'display_data';\n",
              "        await google.colab.output.renderOutput(dataTable, element);\n",
              "        const docLink = document.createElement('div');\n",
              "        docLink.innerHTML = docLinkHtml;\n",
              "        element.appendChild(docLink);\n",
              "      }\n",
              "    </script>\n",
              "  </div>\n",
              "\n",
              "\n",
              "<div id=\"df-9ad2c413-e186-4ddb-a11d-4e20314bc668\">\n",
              "  <button class=\"colab-df-quickchart\" onclick=\"quickchart('df-9ad2c413-e186-4ddb-a11d-4e20314bc668')\"\n",
              "            title=\"Suggest charts\"\n",
              "            style=\"display:none;\">\n",
              "\n",
              "<svg xmlns=\"http://www.w3.org/2000/svg\" height=\"24px\"viewBox=\"0 0 24 24\"\n",
              "     width=\"24px\">\n",
              "    <g>\n",
              "        <path d=\"M19 3H5c-1.1 0-2 .9-2 2v14c0 1.1.9 2 2 2h14c1.1 0 2-.9 2-2V5c0-1.1-.9-2-2-2zM9 17H7v-7h2v7zm4 0h-2V7h2v10zm4 0h-2v-4h2v4z\"/>\n",
              "    </g>\n",
              "</svg>\n",
              "  </button>\n",
              "\n",
              "<style>\n",
              "  .colab-df-quickchart {\n",
              "      --bg-color: #E8F0FE;\n",
              "      --fill-color: #1967D2;\n",
              "      --hover-bg-color: #E2EBFA;\n",
              "      --hover-fill-color: #174EA6;\n",
              "      --disabled-fill-color: #AAA;\n",
              "      --disabled-bg-color: #DDD;\n",
              "  }\n",
              "\n",
              "  [theme=dark] .colab-df-quickchart {\n",
              "      --bg-color: #3B4455;\n",
              "      --fill-color: #D2E3FC;\n",
              "      --hover-bg-color: #434B5C;\n",
              "      --hover-fill-color: #FFFFFF;\n",
              "      --disabled-bg-color: #3B4455;\n",
              "      --disabled-fill-color: #666;\n",
              "  }\n",
              "\n",
              "  .colab-df-quickchart {\n",
              "    background-color: var(--bg-color);\n",
              "    border: none;\n",
              "    border-radius: 50%;\n",
              "    cursor: pointer;\n",
              "    display: none;\n",
              "    fill: var(--fill-color);\n",
              "    height: 32px;\n",
              "    padding: 0;\n",
              "    width: 32px;\n",
              "  }\n",
              "\n",
              "  .colab-df-quickchart:hover {\n",
              "    background-color: var(--hover-bg-color);\n",
              "    box-shadow: 0 1px 2px rgba(60, 64, 67, 0.3), 0 1px 3px 1px rgba(60, 64, 67, 0.15);\n",
              "    fill: var(--button-hover-fill-color);\n",
              "  }\n",
              "\n",
              "  .colab-df-quickchart-complete:disabled,\n",
              "  .colab-df-quickchart-complete:disabled:hover {\n",
              "    background-color: var(--disabled-bg-color);\n",
              "    fill: var(--disabled-fill-color);\n",
              "    box-shadow: none;\n",
              "  }\n",
              "\n",
              "  .colab-df-spinner {\n",
              "    border: 2px solid var(--fill-color);\n",
              "    border-color: transparent;\n",
              "    border-bottom-color: var(--fill-color);\n",
              "    animation:\n",
              "      spin 1s steps(1) infinite;\n",
              "  }\n",
              "\n",
              "  @keyframes spin {\n",
              "    0% {\n",
              "      border-color: transparent;\n",
              "      border-bottom-color: var(--fill-color);\n",
              "      border-left-color: var(--fill-color);\n",
              "    }\n",
              "    20% {\n",
              "      border-color: transparent;\n",
              "      border-left-color: var(--fill-color);\n",
              "      border-top-color: var(--fill-color);\n",
              "    }\n",
              "    30% {\n",
              "      border-color: transparent;\n",
              "      border-left-color: var(--fill-color);\n",
              "      border-top-color: var(--fill-color);\n",
              "      border-right-color: var(--fill-color);\n",
              "    }\n",
              "    40% {\n",
              "      border-color: transparent;\n",
              "      border-right-color: var(--fill-color);\n",
              "      border-top-color: var(--fill-color);\n",
              "    }\n",
              "    60% {\n",
              "      border-color: transparent;\n",
              "      border-right-color: var(--fill-color);\n",
              "    }\n",
              "    80% {\n",
              "      border-color: transparent;\n",
              "      border-right-color: var(--fill-color);\n",
              "      border-bottom-color: var(--fill-color);\n",
              "    }\n",
              "    90% {\n",
              "      border-color: transparent;\n",
              "      border-bottom-color: var(--fill-color);\n",
              "    }\n",
              "  }\n",
              "</style>\n",
              "\n",
              "  <script>\n",
              "    async function quickchart(key) {\n",
              "      const quickchartButtonEl =\n",
              "        document.querySelector('#' + key + ' button');\n",
              "      quickchartButtonEl.disabled = true;  // To prevent multiple clicks.\n",
              "      quickchartButtonEl.classList.add('colab-df-spinner');\n",
              "      try {\n",
              "        const charts = await google.colab.kernel.invokeFunction(\n",
              "            'suggestCharts', [key], {});\n",
              "      } catch (error) {\n",
              "        console.error('Error during call to suggestCharts:', error);\n",
              "      }\n",
              "      quickchartButtonEl.classList.remove('colab-df-spinner');\n",
              "      quickchartButtonEl.classList.add('colab-df-quickchart-complete');\n",
              "    }\n",
              "    (() => {\n",
              "      let quickchartButtonEl =\n",
              "        document.querySelector('#df-9ad2c413-e186-4ddb-a11d-4e20314bc668 button');\n",
              "      quickchartButtonEl.style.display =\n",
              "        google.colab.kernel.accessAllowed ? 'block' : 'none';\n",
              "    })();\n",
              "  </script>\n",
              "</div>\n",
              "\n",
              "    </div>\n",
              "  </div>\n"
            ],
            "application/vnd.google.colaboratory.intrinsic+json": {
              "type": "dataframe",
              "variable_name": "df"
            }
          },
          "metadata": {},
          "execution_count": 3
        }
      ]
    },
    {
      "cell_type": "code",
      "source": [
        "df.info()"
      ],
      "metadata": {
        "colab": {
          "base_uri": "https://localhost:8080/"
        },
        "id": "BJj3JHyb7w8t",
        "outputId": "13dbf2bc-4fe9-4151-a2f4-a9b8cd487a94"
      },
      "execution_count": null,
      "outputs": [
        {
          "output_type": "stream",
          "name": "stdout",
          "text": [
            "<class 'pandas.core.frame.DataFrame'>\n",
            "RangeIndex: 10000 entries, 0 to 9999\n",
            "Data columns (total 26 columns):\n",
            " #   Column                   Non-Null Count  Dtype \n",
            "---  ------                   --------------  ----- \n",
            " 0   Patient_ID               10000 non-null  int64 \n",
            " 1   State_Name               10000 non-null  object\n",
            " 2   Age                      10000 non-null  int64 \n",
            " 3   Gender                   10000 non-null  object\n",
            " 4   Diabetes                 10000 non-null  int64 \n",
            " 5   Hypertension             10000 non-null  int64 \n",
            " 6   Obesity                  10000 non-null  int64 \n",
            " 7   Smoking                  10000 non-null  int64 \n",
            " 8   Alcohol_Consumption      10000 non-null  int64 \n",
            " 9   Physical_Activity        10000 non-null  int64 \n",
            " 10  Diet_Score               10000 non-null  int64 \n",
            " 11  Cholesterol_Level        10000 non-null  int64 \n",
            " 12  Triglyceride_Level       10000 non-null  int64 \n",
            " 13  LDL_Level                10000 non-null  int64 \n",
            " 14  HDL_Level                10000 non-null  int64 \n",
            " 15  Systolic_BP              10000 non-null  int64 \n",
            " 16  Diastolic_BP             10000 non-null  int64 \n",
            " 17  Air_Pollution_Exposure   10000 non-null  int64 \n",
            " 18  Family_History           10000 non-null  int64 \n",
            " 19  Stress_Level             10000 non-null  int64 \n",
            " 20  Healthcare_Access        10000 non-null  int64 \n",
            " 21  Heart_Attack_History     10000 non-null  int64 \n",
            " 22  Emergency_Response_Time  10000 non-null  int64 \n",
            " 23  Annual_Income            10000 non-null  int64 \n",
            " 24  Health_Insurance         10000 non-null  int64 \n",
            " 25  Heart_Attack_Risk        10000 non-null  int64 \n",
            "dtypes: int64(24), object(2)\n",
            "memory usage: 2.0+ MB\n"
          ]
        }
      ]
    },
    {
      "cell_type": "markdown",
      "source": [
        "# Training Model\n",
        "\n",
        "The model that is used is a simple logistic regression model from Sklearn. A logistic regression model estimates the probability of an event, in this case heart disease, occuring using the given data."
      ],
      "metadata": {
        "id": "SbhzzwnDunVJ"
      }
    },
    {
      "cell_type": "code",
      "execution_count": null,
      "metadata": {
        "id": "WGmY8RaRugYu"
      },
      "outputs": [],
      "source": [
        "from sklearn.compose import ColumnTransformer\n",
        "from sklearn.model_selection import train_test_split\n",
        "from sklearn.preprocessing import StandardScaler , OneHotEncoder\n",
        "\n",
        "# Split Dataset\n",
        "x = df.drop('Heart_Attack_Risk', axis=1)\n",
        "y = df['Heart_Attack_Risk']\n",
        "\n",
        "x_train, x_test, y_train, y_test = train_test_split(x, y, test_size=0.2, random_state=2)\n",
        "\n",
        "ct = ColumnTransformer(\n",
        "    transformers= [('onehot', OneHotEncoder(drop='first'), ['State_Name', 'Gender']),\n",
        "                   ('normal', StandardScaler(),\n",
        "                   ['Diastolic_BP', 'Annual_Income', 'Emergency_Response_Time', 'Systolic_BP', 'Cholesterol_Level', 'Triglyceride_Level', 'LDL_Level', 'HDL_Level'])\n",
        "                  ], remainder='passthrough')\n",
        "\n",
        "x_train_ct = ct.fit_transform(x_train)\n",
        "x_test_ct = ct.transform(x_test)"
      ]
    },
    {
      "cell_type": "code",
      "source": [
        "from sklearn.linear_model import LogisticRegression\n",
        "from sklearn.metrics import accuracy_score, confusion_matrix\n",
        "\n",
        "# Logistic Regression Model\n",
        "model = LogisticRegression(max_iter=2000)\n",
        "\n",
        "# Train Model\n",
        "model.fit(x_train_ct, y_train)\n",
        "\n",
        "# Test Model Accuracy\n",
        "y_pred = model.predict(x_test_ct)\n",
        "print(f'Accuracy Score: {accuracy_score(y_test, y_pred) * 100}%')"
      ],
      "metadata": {
        "colab": {
          "base_uri": "https://localhost:8080/"
        },
        "id": "e2yKg9qB4vB8",
        "outputId": "12f08500-d615-424a-b57f-41e114454a5d"
      },
      "execution_count": null,
      "outputs": [
        {
          "output_type": "stream",
          "name": "stdout",
          "text": [
            "Accuracy Score: 71.75%\n"
          ]
        }
      ]
    },
    {
      "cell_type": "code",
      "source": [
        "import torch\n",
        "import torch.nn as nn\n",
        "\n",
        "\n",
        "class LogisticRegression(nn.Module):\n",
        "    def __init__(self, input_dim):\n",
        "        super(LogisticRegression, self).__init__()\n",
        "        self.linear = nn.Linear(input_dim, 1)\n",
        "\n",
        "    def forward(self, x):\n",
        "        return torch.sigmoid(self.linear(x))"
      ],
      "metadata": {
        "id": "bodk35HlD61d"
      },
      "execution_count": null,
      "outputs": []
    },
    {
      "cell_type": "code",
      "source": [
        "# Convert to Torch Model for EZKL\n",
        "\n",
        "# Get sklearn model weights and bias\n",
        "weights = model.coef_  # Shape: (1, n_features)\n",
        "bias = model.intercept_  # Shape: (1,)\n",
        "\n",
        "# Create Torch model\n",
        "input_dim = x_train_ct.shape[1]\n",
        "torch_model = LogisticRegression(input_dim)\n",
        "\n",
        "# Convert sklearn weights to PyTorch tensors and assign them\n",
        "torch_model.linear.weight = nn.Parameter(torch.tensor(weights, dtype=torch.float32))\n",
        "torch_model.linear.bias = nn.Parameter(torch.tensor(bias, dtype=torch.float32))"
      ],
      "metadata": {
        "id": "-TQ5NZc2Ks0H"
      },
      "execution_count": null,
      "outputs": []
    },
    {
      "cell_type": "code",
      "source": [
        "# Testing torch model to ensure same result\n",
        "\n",
        "# Convert test data to tensor\n",
        "x_test_torch = torch.tensor(x_test_ct, dtype=torch.float32)\n",
        "y_torch = torch.tensor(y_test.tolist(), dtype=torch.float32)\n",
        "\n",
        "torch_model.eval()\n",
        "\n",
        "with torch.no_grad():\n",
        "  # Get model predictions and convert them to int (0 or 1 tells us no or yes to heart disease risk)\n",
        "  y_pred_probs = torch_model(x_test_torch).squeeze()\n",
        "  y_pred_labels = (y_pred_probs >= 0.5).int()  # Convert to binary labels\n",
        "\n",
        "# Check accuracy\n",
        "accuracy = accuracy_score(y_torch, y_pred_labels.numpy())  # Compare with true labels\n",
        "\n",
        "print(f\"PyTorch Accuracy: {accuracy * 100:.2f}%\")"
      ],
      "metadata": {
        "colab": {
          "base_uri": "https://localhost:8080/"
        },
        "id": "9jDyN_T2K9Pt",
        "outputId": "4ac21009-4694-4cc7-eb29-c1d9344676a6"
      },
      "execution_count": null,
      "outputs": [
        {
          "output_type": "stream",
          "name": "stdout",
          "text": [
            "PyTorch Accuracy: 71.75%\n"
          ]
        }
      ]
    },
    {
      "cell_type": "markdown",
      "source": [
        "# Implementing EZKL circuit"
      ],
      "metadata": {
        "id": "s0cKeEHTus4K"
      }
    },
    {
      "cell_type": "code",
      "source": [
        "# check if notebook is in colab\n",
        "try:\n",
        "    import google.colab\n",
        "    import subprocess\n",
        "    import sys\n",
        "    subprocess.check_call([sys.executable, \"-m\", \"pip\", \"install\", \"ezkl\"])\n",
        "    subprocess.check_call([sys.executable, \"-m\", \"pip\", \"install\", \"onnx\"])\n",
        "\n",
        "# rely on local installation of ezkl if the notebook is not in colab\n",
        "except:\n",
        "    pass\n",
        "\n",
        "import os\n",
        "import json\n",
        "import ezkl"
      ],
      "metadata": {
        "id": "BFGBKqwfuvi4"
      },
      "execution_count": null,
      "outputs": []
    },
    {
      "cell_type": "code",
      "source": [
        "# Required Files for EZKL\n",
        "model_path = os.path.join('network.onnx')\n",
        "data_path = os.path.join('input.json')\n",
        "cal_data_path = os.path.join('calibration.json')"
      ],
      "metadata": {
        "id": "rbT-S3mU_8JO"
      },
      "execution_count": null,
      "outputs": []
    },
    {
      "cell_type": "code",
      "source": [
        "x_test_torch.shape"
      ],
      "metadata": {
        "colab": {
          "base_uri": "https://localhost:8080/"
        },
        "id": "SQt_QZ_fPef0",
        "outputId": "a4dd257a-f55f-4d26-a4ca-e70050cec8b8"
      },
      "execution_count": null,
      "outputs": [
        {
          "output_type": "execute_result",
          "data": {
            "text/plain": [
              "torch.Size([2000, 51])"
            ]
          },
          "metadata": {},
          "execution_count": 126
        }
      ]
    },
    {
      "cell_type": "code",
      "source": [
        "# Convert model to ONNX\n",
        "\n",
        "# create a random input\n",
        "x = torch.randn(1, x_test_torch.shape[1])\n",
        "\n",
        "# Export the model\n",
        "torch.onnx.export(torch_model,                     # model being run\n",
        "                  x,                         # model input (or a tuple for multiple inputs)\n",
        "                  model_path,                # where to save the model (can be a file or file-like object)\n",
        "                  export_params=True,        # store the trained parameter weights inside the model file\n",
        "                  opset_version=10,          # the ONNX version to export the model to\n",
        "                  do_constant_folding=True,  # whether to execute constant folding for optimization\n",
        "                  input_names = ['input'],   # the model's input names\n",
        "                  output_names = ['output'], # the model's output names\n",
        "                  dynamic_axes={'input' : {0 : 'batch_size'},    # variable length axes\n",
        "                                'output' : {0 : 'batch_size'}})\n",
        "\n",
        "data_array = ((x).detach().numpy()).reshape([-1]).tolist()\n",
        "\n",
        "data = dict(input_data = [data_array])\n",
        "\n",
        "    # Serialize data into file:\n",
        "json.dump(data, open(data_path, 'w'))"
      ],
      "metadata": {
        "id": "8s7cyqrSAQXR"
      },
      "execution_count": null,
      "outputs": []
    },
    {
      "cell_type": "code",
      "source": [
        "!RUST_LOG=trace\n",
        "# TODO: Dictionary outputs\n",
        "res = ezkl.gen_settings()\n",
        "assert res == True"
      ],
      "metadata": {
        "id": "WGe8SIwkBEYE"
      },
      "execution_count": null,
      "outputs": []
    },
    {
      "cell_type": "code",
      "source": [
        "# use the test set to calibrate the circuit\n",
        "cal_data = dict(input_data = x_test_torch.flatten().tolist())\n",
        "\n",
        "# Serialize calibration data into file:\n",
        "json.dump(data, open(cal_data_path, 'w'))\n",
        "\n",
        "# Optimize for resources, we cap logrows at 12 to reduce setup and proving time, at the expense of accuracy\n",
        "# You may want to increase the max logrows if accuracy is a concern\n",
        "res = await ezkl.calibrate_settings(target = \"resources\", max_logrows = 50, scales = [14])"
      ],
      "metadata": {
        "colab": {
          "base_uri": "https://localhost:8080/"
        },
        "id": "uT1Xo_QrNMbz",
        "outputId": "6d648e52-d5b1-4238-ea03-55c03c170308"
      },
      "execution_count": null,
      "outputs": [
        {
          "output_type": "stream",
          "name": "stderr",
          "text": [
            "WARNING:ezkl.execute:\n",
            "\n",
            " <------------- Numerical Fidelity Report (input_scale: 14, param_scale: 14, scale_input_multiplier: 1) ------------->\n",
            "\n",
            "+-----------------+-----------------+-----------------+-----------------+----------------+------------------+----------------+----------------+--------------------+--------------------+------------------------+\n",
            "| mean_error      | median_error    | max_error       | min_error       | mean_abs_error | median_abs_error | max_abs_error  | min_abs_error  | mean_squared_error | mean_percent_error | mean_abs_percent_error |\n",
            "+-----------------+-----------------+-----------------+-----------------+----------------+------------------+----------------+----------------+--------------------+--------------------+------------------------+\n",
            "| -0.000019401312 | -0.000019401312 | -0.000019401312 | -0.000019401312 | 0.000019401312 | 0.000019401312   | 0.000019401312 | 0.000019401312 | 0.0000000003764109 | -0.00021295297     | 0.00021295297          |\n",
            "+-----------------+-----------------+-----------------+-----------------+----------------+------------------+----------------+----------------+--------------------+--------------------+------------------------+\n",
            "\n",
            "\n"
          ]
        }
      ]
    },
    {
      "cell_type": "code",
      "source": [
        "res = ezkl.compile_circuit()\n",
        "assert res == True"
      ],
      "metadata": {
        "id": "IlWR-WZcNdhK"
      },
      "execution_count": null,
      "outputs": []
    },
    {
      "cell_type": "code",
      "source": [
        "res = await ezkl.get_srs()"
      ],
      "metadata": {
        "id": "dHL9cEoDPC5f"
      },
      "execution_count": null,
      "outputs": []
    },
    {
      "cell_type": "code",
      "source": [
        "res = ezkl.setup()\n",
        "assert res == True"
      ],
      "metadata": {
        "id": "Jz4JZiYWPFie"
      },
      "execution_count": null,
      "outputs": []
    },
    {
      "cell_type": "markdown",
      "source": [
        "# Create Witness"
      ],
      "metadata": {
        "id": "qsCRuKDlQUrO"
      }
    },
    {
      "cell_type": "code",
      "source": [
        "# Generate the Witness for the proof\n",
        "\n",
        "# now generate the witness file\n",
        "witness_path = os.path.join('witness.json')\n",
        "\n",
        "res = await ezkl.gen_witness()\n",
        "assert os.path.isfile(witness_path)"
      ],
      "metadata": {
        "id": "uJd8jRYPPHa1"
      },
      "execution_count": null,
      "outputs": []
    },
    {
      "cell_type": "code",
      "source": [
        "# Generate the proof\n",
        "proof_path = os.path.join('proof.json')\n",
        "\n",
        "proof = ezkl.prove(proof_type=\"single\", proof_path=proof_path)\n",
        "\n",
        "print(proof)\n",
        "assert os.path.isfile(proof_path)"
      ],
      "metadata": {
        "colab": {
          "base_uri": "https://localhost:8080/"
        },
        "id": "4mHGKwjqPMKu",
        "outputId": "c731fe53-2abe-45c5-be6f-b29933957618"
      },
      "execution_count": null,
      "outputs": [
        {
          "output_type": "stream",
          "name": "stdout",
          "text": [
            "{'instances': [['d505000000000000000000000000000000000000000000000000000000000000']], 'proof': '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', 'transcript_type': 'EVM'}\n"
          ]
        }
      ]
    },
    {
      "cell_type": "code",
      "source": [
        "# verify our proof\n",
        "res = ezkl.verify()\n",
        "\n",
        "assert res == True\n",
        "print(\"verified\")"
      ],
      "metadata": {
        "colab": {
          "base_uri": "https://localhost:8080/"
        },
        "id": "GLpE8m8mPN-N",
        "outputId": "30ff4580-1f59-4a19-9175-b9c4d8ad90d4"
      },
      "execution_count": null,
      "outputs": [
        {
          "output_type": "stream",
          "name": "stdout",
          "text": [
            "verified\n"
          ]
        }
      ]
    },
    {
      "cell_type": "markdown",
      "source": [
        "# Create Verifier"
      ],
      "metadata": {
        "id": "OfFw369-QYlj"
      }
    },
    {
      "cell_type": "code",
      "source": [
        "# check if notebook is in colab\n",
        "try:\n",
        "    import google.colab\n",
        "    import subprocess\n",
        "    import sys\n",
        "    subprocess.check_call([sys.executable, \"-m\", \"pip\", \"install\", \"solc-select\"])\n",
        "    !solc-select install 0.8.20\n",
        "    !solc-select use 0.8.20\n",
        "    !solc --version\n",
        "\n",
        "# rely on local installation if the notebook is not in colab\n",
        "except:\n",
        "    pass"
      ],
      "metadata": {
        "colab": {
          "base_uri": "https://localhost:8080/"
        },
        "id": "erNj_NIFPPbn",
        "outputId": "68a65f0e-9005-4283-df90-31a898bf8515"
      },
      "execution_count": null,
      "outputs": [
        {
          "output_type": "stream",
          "name": "stdout",
          "text": [
            "Installing solc '0.8.20'...\n",
            "Version '0.8.20' installed.\n",
            "Switched global version to 0.8.20\n",
            "solc, the solidity compiler commandline interface\n",
            "Version: 0.8.20+commit.a1b79de6.Linux.g++\n"
          ]
        }
      ]
    },
    {
      "cell_type": "code",
      "source": [
        "sol_code_path = os.path.join('Verifier.sol')\n",
        "abi_path = os.path.join('Verifier.abi')\n",
        "\n",
        "res = await ezkl.create_evm_verifier(\n",
        "        sol_code_path=sol_code_path,\n",
        "        abi_path=abi_path,\n",
        "    )\n",
        "\n",
        "assert res == True\n",
        "assert os.path.isfile(sol_code_path)"
      ],
      "metadata": {
        "id": "Y9DxPlBcQctY"
      },
      "execution_count": null,
      "outputs": []
    },
    {
      "cell_type": "code",
      "source": [
        "onchain_input_array = []\n",
        "\n",
        "# using a loop\n",
        "# avoiding printing last comma\n",
        "formatted_output = \"[\"\n",
        "for i, value in enumerate(proof[\"instances\"]):\n",
        "    for j, field_element in enumerate(value):\n",
        "        onchain_input_array.append(ezkl.felt_to_big_endian(field_element))\n",
        "        formatted_output += '\"' + str(onchain_input_array[-1]) + '\"'\n",
        "        if j != len(value) - 1:\n",
        "            formatted_output += \", \"\n",
        "    if i != len(proof[\"instances\"]) - 1:\n",
        "        formatted_output += \", \"\n",
        "formatted_output += \"]\"\n",
        "\n",
        "# This will be the values you use onchain\n",
        "# copy them over to remix and see if they verify\n",
        "# What happens when you change a value?\n",
        "print(\"pubInputs: \", formatted_output)\n",
        "print(\"proof: \", proof[\"proof\"])"
      ],
      "metadata": {
        "colab": {
          "base_uri": "https://localhost:8080/"
        },
        "id": "pJtaBffzQqVp",
        "outputId": "363ed7d4-bb30-4299-f137-ed719be01124"
      },
      "execution_count": null,
      "outputs": [
        {
          "output_type": "stream",
          "name": "stdout",
          "text": [
            "pubInputs:  [\"0x00000000000000000000000000000000000000000000000000000000000005d5\"]\n",
            "proof:  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\n"
          ]
        }
      ]
    },
    {
      "cell_type": "code",
      "source": [
        "# Move On-Chain"
      ],
      "metadata": {
        "id": "A65eJJOhQr3v"
      },
      "execution_count": null,
      "outputs": []
    },
    {
      "cell_type": "code",
      "source": [],
      "metadata": {
        "id": "rnpAFyprQ3MS"
      },
      "execution_count": null,
      "outputs": []
    }
  ]
}