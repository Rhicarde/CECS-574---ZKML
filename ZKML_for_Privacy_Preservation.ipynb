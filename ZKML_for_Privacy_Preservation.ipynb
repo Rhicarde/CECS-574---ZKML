{
  "nbformat": 4,
  "nbformat_minor": 0,
  "metadata": {
    "colab": {
      "provenance": [],
      "authorship_tag": "ABX9TyOuuP9hL7SV4HMmlA5EPHpy",
      "include_colab_link": true
    },
    "kernelspec": {
      "name": "python3",
      "display_name": "Python 3"
    },
    "language_info": {
      "name": "python"
    }
  },
  "cells": [
    {
      "cell_type": "markdown",
      "metadata": {
        "id": "view-in-github",
        "colab_type": "text"
      },
      "source": [
        "<a href=\"https://colab.research.google.com/github/Rhicarde/CECS-574---ZKML/blob/main/ZKML_for_Privacy_Preservation.ipynb\" target=\"_parent\"><img src=\"https://colab.research.google.com/assets/colab-badge.svg\" alt=\"Open In Colab\"/></a>"
      ]
    },
    {
      "cell_type": "code",
      "source": [
        "pip install skl2onnx onnx onnxruntime"
      ],
      "metadata": {
        "colab": {
          "base_uri": "https://localhost:8080/"
        },
        "id": "vzxeXKrlBwMM",
        "outputId": "07dd319a-3062-4456-bc5e-aacf49546675"
      },
      "execution_count": 54,
      "outputs": [
        {
          "output_type": "stream",
          "name": "stdout",
          "text": [
            "Requirement already satisfied: skl2onnx in /usr/local/lib/python3.11/dist-packages (1.18.0)\n",
            "Requirement already satisfied: onnx in /usr/local/lib/python3.11/dist-packages (1.17.0)\n",
            "Requirement already satisfied: onnxruntime in /usr/local/lib/python3.11/dist-packages (1.21.0)\n",
            "Requirement already satisfied: scikit-learn>=1.1 in /usr/local/lib/python3.11/dist-packages (from skl2onnx) (1.6.1)\n",
            "Requirement already satisfied: onnxconverter-common>=1.7.0 in /usr/local/lib/python3.11/dist-packages (from skl2onnx) (1.14.0)\n",
            "Requirement already satisfied: numpy>=1.20 in /usr/local/lib/python3.11/dist-packages (from onnx) (1.26.4)\n",
            "Requirement already satisfied: protobuf>=3.20.2 in /usr/local/lib/python3.11/dist-packages (from onnx) (3.20.2)\n",
            "Requirement already satisfied: coloredlogs in /usr/local/lib/python3.11/dist-packages (from onnxruntime) (15.0.1)\n",
            "Requirement already satisfied: flatbuffers in /usr/local/lib/python3.11/dist-packages (from onnxruntime) (25.2.10)\n",
            "Requirement already satisfied: packaging in /usr/local/lib/python3.11/dist-packages (from onnxruntime) (24.2)\n",
            "Requirement already satisfied: sympy in /usr/local/lib/python3.11/dist-packages (from onnxruntime) (1.13.1)\n",
            "Requirement already satisfied: scipy>=1.6.0 in /usr/local/lib/python3.11/dist-packages (from scikit-learn>=1.1->skl2onnx) (1.13.1)\n",
            "Requirement already satisfied: joblib>=1.2.0 in /usr/local/lib/python3.11/dist-packages (from scikit-learn>=1.1->skl2onnx) (1.4.2)\n",
            "Requirement already satisfied: threadpoolctl>=3.1.0 in /usr/local/lib/python3.11/dist-packages (from scikit-learn>=1.1->skl2onnx) (3.5.0)\n",
            "Requirement already satisfied: humanfriendly>=9.1 in /usr/local/lib/python3.11/dist-packages (from coloredlogs->onnxruntime) (10.0)\n",
            "Requirement already satisfied: mpmath<1.4,>=1.1.0 in /usr/local/lib/python3.11/dist-packages (from sympy->onnxruntime) (1.3.0)\n"
          ]
        }
      ]
    },
    {
      "cell_type": "markdown",
      "source": [
        "# Dataset\n",
        "View dataset from kaggle [here](https://www.kaggle.com/datasets/ankushpanday2/heart-attack-risk-and-prediction-dataset-in-india/data).\n",
        "\n",
        "The dataset used is representing medical and lifestyle risk factors that may lead to heart diseases. We will be using it to train a model that can ideally predict early signs of heart diseases based on the given factors."
      ],
      "metadata": {
        "id": "pVfuwlF0u5wQ"
      }
    },
    {
      "cell_type": "code",
      "source": [
        "# Downloading Dataset\n",
        "import kagglehub\n",
        "\n",
        "path = kagglehub.dataset_download(\"ankushpanday2/heart-attack-risk-and-prediction-dataset-in-india\")\n",
        "\n",
        "print(\"Path to dataset files:\", path)"
      ],
      "metadata": {
        "colab": {
          "base_uri": "https://localhost:8080/"
        },
        "id": "kSTzdFP0u9T_",
        "outputId": "f22660d3-e1e8-4def-9456-db7566a31bf2"
      },
      "execution_count": 55,
      "outputs": [
        {
          "output_type": "stream",
          "name": "stdout",
          "text": [
            "Path to dataset files: /root/.cache/kagglehub/datasets/ankushpanday2/heart-attack-risk-and-prediction-dataset-in-india/versions/1\n"
          ]
        }
      ]
    },
    {
      "cell_type": "code",
      "source": [
        "import pandas as pd\n",
        "\n",
        "df = pd.read_csv(path + '/heart_attack_prediction_india.csv')\n",
        "df.head()"
      ],
      "metadata": {
        "colab": {
          "base_uri": "https://localhost:8080/",
          "height": 0
        },
        "id": "FXQbUgPLxtzx",
        "outputId": "64d4f896-86f2-4c72-90bd-b2e5caf6d5ab"
      },
      "execution_count": 56,
      "outputs": [
        {
          "output_type": "execute_result",
          "data": {
            "text/plain": [
              "   Patient_ID        State_Name  Age  Gender  Diabetes  Hypertension  Obesity  \\\n",
              "0           1         Rajasthan   42  Female         0             0        1   \n",
              "1           2  Himachal Pradesh   26    Male         0             0        0   \n",
              "2           3             Assam   78    Male         0             0        1   \n",
              "3           4            Odisha   58    Male         1             0        1   \n",
              "4           5         Karnataka   22    Male         0             0        0   \n",
              "\n",
              "   Smoking  Alcohol_Consumption  Physical_Activity  ...  Diastolic_BP  \\\n",
              "0        1                    0                  0  ...           119   \n",
              "1        0                    1                  1  ...           115   \n",
              "2        0                    0                  1  ...           117   \n",
              "3        0                    0                  1  ...            65   \n",
              "4        0                    0                  1  ...           109   \n",
              "\n",
              "   Air_Pollution_Exposure  Family_History  Stress_Level  Healthcare_Access  \\\n",
              "0                       1               0             4                  0   \n",
              "1                       0               0             7                  0   \n",
              "2                       0               1            10                  1   \n",
              "3                       0               0             1                  1   \n",
              "4                       0               0             9                  0   \n",
              "\n",
              "   Heart_Attack_History  Emergency_Response_Time  Annual_Income  \\\n",
              "0                     0                      157         611025   \n",
              "1                     0                      331         174527   \n",
              "2                     0                      186        1760112   \n",
              "3                     1                      324        1398213   \n",
              "4                     0                      209          97987   \n",
              "\n",
              "   Health_Insurance  Heart_Attack_Risk  \n",
              "0                 0                  0  \n",
              "1                 0                  0  \n",
              "2                 1                  0  \n",
              "3                 0                  0  \n",
              "4                 0                  1  \n",
              "\n",
              "[5 rows x 26 columns]"
            ],
            "text/html": [
              "\n",
              "  <div id=\"df-fb944508-43c2-4af2-aa98-3c2fcbebf938\" class=\"colab-df-container\">\n",
              "    <div>\n",
              "<style scoped>\n",
              "    .dataframe tbody tr th:only-of-type {\n",
              "        vertical-align: middle;\n",
              "    }\n",
              "\n",
              "    .dataframe tbody tr th {\n",
              "        vertical-align: top;\n",
              "    }\n",
              "\n",
              "    .dataframe thead th {\n",
              "        text-align: right;\n",
              "    }\n",
              "</style>\n",
              "<table border=\"1\" class=\"dataframe\">\n",
              "  <thead>\n",
              "    <tr style=\"text-align: right;\">\n",
              "      <th></th>\n",
              "      <th>Patient_ID</th>\n",
              "      <th>State_Name</th>\n",
              "      <th>Age</th>\n",
              "      <th>Gender</th>\n",
              "      <th>Diabetes</th>\n",
              "      <th>Hypertension</th>\n",
              "      <th>Obesity</th>\n",
              "      <th>Smoking</th>\n",
              "      <th>Alcohol_Consumption</th>\n",
              "      <th>Physical_Activity</th>\n",
              "      <th>...</th>\n",
              "      <th>Diastolic_BP</th>\n",
              "      <th>Air_Pollution_Exposure</th>\n",
              "      <th>Family_History</th>\n",
              "      <th>Stress_Level</th>\n",
              "      <th>Healthcare_Access</th>\n",
              "      <th>Heart_Attack_History</th>\n",
              "      <th>Emergency_Response_Time</th>\n",
              "      <th>Annual_Income</th>\n",
              "      <th>Health_Insurance</th>\n",
              "      <th>Heart_Attack_Risk</th>\n",
              "    </tr>\n",
              "  </thead>\n",
              "  <tbody>\n",
              "    <tr>\n",
              "      <th>0</th>\n",
              "      <td>1</td>\n",
              "      <td>Rajasthan</td>\n",
              "      <td>42</td>\n",
              "      <td>Female</td>\n",
              "      <td>0</td>\n",
              "      <td>0</td>\n",
              "      <td>1</td>\n",
              "      <td>1</td>\n",
              "      <td>0</td>\n",
              "      <td>0</td>\n",
              "      <td>...</td>\n",
              "      <td>119</td>\n",
              "      <td>1</td>\n",
              "      <td>0</td>\n",
              "      <td>4</td>\n",
              "      <td>0</td>\n",
              "      <td>0</td>\n",
              "      <td>157</td>\n",
              "      <td>611025</td>\n",
              "      <td>0</td>\n",
              "      <td>0</td>\n",
              "    </tr>\n",
              "    <tr>\n",
              "      <th>1</th>\n",
              "      <td>2</td>\n",
              "      <td>Himachal Pradesh</td>\n",
              "      <td>26</td>\n",
              "      <td>Male</td>\n",
              "      <td>0</td>\n",
              "      <td>0</td>\n",
              "      <td>0</td>\n",
              "      <td>0</td>\n",
              "      <td>1</td>\n",
              "      <td>1</td>\n",
              "      <td>...</td>\n",
              "      <td>115</td>\n",
              "      <td>0</td>\n",
              "      <td>0</td>\n",
              "      <td>7</td>\n",
              "      <td>0</td>\n",
              "      <td>0</td>\n",
              "      <td>331</td>\n",
              "      <td>174527</td>\n",
              "      <td>0</td>\n",
              "      <td>0</td>\n",
              "    </tr>\n",
              "    <tr>\n",
              "      <th>2</th>\n",
              "      <td>3</td>\n",
              "      <td>Assam</td>\n",
              "      <td>78</td>\n",
              "      <td>Male</td>\n",
              "      <td>0</td>\n",
              "      <td>0</td>\n",
              "      <td>1</td>\n",
              "      <td>0</td>\n",
              "      <td>0</td>\n",
              "      <td>1</td>\n",
              "      <td>...</td>\n",
              "      <td>117</td>\n",
              "      <td>0</td>\n",
              "      <td>1</td>\n",
              "      <td>10</td>\n",
              "      <td>1</td>\n",
              "      <td>0</td>\n",
              "      <td>186</td>\n",
              "      <td>1760112</td>\n",
              "      <td>1</td>\n",
              "      <td>0</td>\n",
              "    </tr>\n",
              "    <tr>\n",
              "      <th>3</th>\n",
              "      <td>4</td>\n",
              "      <td>Odisha</td>\n",
              "      <td>58</td>\n",
              "      <td>Male</td>\n",
              "      <td>1</td>\n",
              "      <td>0</td>\n",
              "      <td>1</td>\n",
              "      <td>0</td>\n",
              "      <td>0</td>\n",
              "      <td>1</td>\n",
              "      <td>...</td>\n",
              "      <td>65</td>\n",
              "      <td>0</td>\n",
              "      <td>0</td>\n",
              "      <td>1</td>\n",
              "      <td>1</td>\n",
              "      <td>1</td>\n",
              "      <td>324</td>\n",
              "      <td>1398213</td>\n",
              "      <td>0</td>\n",
              "      <td>0</td>\n",
              "    </tr>\n",
              "    <tr>\n",
              "      <th>4</th>\n",
              "      <td>5</td>\n",
              "      <td>Karnataka</td>\n",
              "      <td>22</td>\n",
              "      <td>Male</td>\n",
              "      <td>0</td>\n",
              "      <td>0</td>\n",
              "      <td>0</td>\n",
              "      <td>0</td>\n",
              "      <td>0</td>\n",
              "      <td>1</td>\n",
              "      <td>...</td>\n",
              "      <td>109</td>\n",
              "      <td>0</td>\n",
              "      <td>0</td>\n",
              "      <td>9</td>\n",
              "      <td>0</td>\n",
              "      <td>0</td>\n",
              "      <td>209</td>\n",
              "      <td>97987</td>\n",
              "      <td>0</td>\n",
              "      <td>1</td>\n",
              "    </tr>\n",
              "  </tbody>\n",
              "</table>\n",
              "<p>5 rows × 26 columns</p>\n",
              "</div>\n",
              "    <div class=\"colab-df-buttons\">\n",
              "\n",
              "  <div class=\"colab-df-container\">\n",
              "    <button class=\"colab-df-convert\" onclick=\"convertToInteractive('df-fb944508-43c2-4af2-aa98-3c2fcbebf938')\"\n",
              "            title=\"Convert this dataframe to an interactive table.\"\n",
              "            style=\"display:none;\">\n",
              "\n",
              "  <svg xmlns=\"http://www.w3.org/2000/svg\" height=\"24px\" viewBox=\"0 -960 960 960\">\n",
              "    <path d=\"M120-120v-720h720v720H120Zm60-500h600v-160H180v160Zm220 220h160v-160H400v160Zm0 220h160v-160H400v160ZM180-400h160v-160H180v160Zm440 0h160v-160H620v160ZM180-180h160v-160H180v160Zm440 0h160v-160H620v160Z\"/>\n",
              "  </svg>\n",
              "    </button>\n",
              "\n",
              "  <style>\n",
              "    .colab-df-container {\n",
              "      display:flex;\n",
              "      gap: 12px;\n",
              "    }\n",
              "\n",
              "    .colab-df-convert {\n",
              "      background-color: #E8F0FE;\n",
              "      border: none;\n",
              "      border-radius: 50%;\n",
              "      cursor: pointer;\n",
              "      display: none;\n",
              "      fill: #1967D2;\n",
              "      height: 32px;\n",
              "      padding: 0 0 0 0;\n",
              "      width: 32px;\n",
              "    }\n",
              "\n",
              "    .colab-df-convert:hover {\n",
              "      background-color: #E2EBFA;\n",
              "      box-shadow: 0px 1px 2px rgba(60, 64, 67, 0.3), 0px 1px 3px 1px rgba(60, 64, 67, 0.15);\n",
              "      fill: #174EA6;\n",
              "    }\n",
              "\n",
              "    .colab-df-buttons div {\n",
              "      margin-bottom: 4px;\n",
              "    }\n",
              "\n",
              "    [theme=dark] .colab-df-convert {\n",
              "      background-color: #3B4455;\n",
              "      fill: #D2E3FC;\n",
              "    }\n",
              "\n",
              "    [theme=dark] .colab-df-convert:hover {\n",
              "      background-color: #434B5C;\n",
              "      box-shadow: 0px 1px 3px 1px rgba(0, 0, 0, 0.15);\n",
              "      filter: drop-shadow(0px 1px 2px rgba(0, 0, 0, 0.3));\n",
              "      fill: #FFFFFF;\n",
              "    }\n",
              "  </style>\n",
              "\n",
              "    <script>\n",
              "      const buttonEl =\n",
              "        document.querySelector('#df-fb944508-43c2-4af2-aa98-3c2fcbebf938 button.colab-df-convert');\n",
              "      buttonEl.style.display =\n",
              "        google.colab.kernel.accessAllowed ? 'block' : 'none';\n",
              "\n",
              "      async function convertToInteractive(key) {\n",
              "        const element = document.querySelector('#df-fb944508-43c2-4af2-aa98-3c2fcbebf938');\n",
              "        const dataTable =\n",
              "          await google.colab.kernel.invokeFunction('convertToInteractive',\n",
              "                                                    [key], {});\n",
              "        if (!dataTable) return;\n",
              "\n",
              "        const docLinkHtml = 'Like what you see? Visit the ' +\n",
              "          '<a target=\"_blank\" href=https://colab.research.google.com/notebooks/data_table.ipynb>data table notebook</a>'\n",
              "          + ' to learn more about interactive tables.';\n",
              "        element.innerHTML = '';\n",
              "        dataTable['output_type'] = 'display_data';\n",
              "        await google.colab.output.renderOutput(dataTable, element);\n",
              "        const docLink = document.createElement('div');\n",
              "        docLink.innerHTML = docLinkHtml;\n",
              "        element.appendChild(docLink);\n",
              "      }\n",
              "    </script>\n",
              "  </div>\n",
              "\n",
              "\n",
              "<div id=\"df-4d4da14f-e06a-48e0-bbfc-7c7cb5c95522\">\n",
              "  <button class=\"colab-df-quickchart\" onclick=\"quickchart('df-4d4da14f-e06a-48e0-bbfc-7c7cb5c95522')\"\n",
              "            title=\"Suggest charts\"\n",
              "            style=\"display:none;\">\n",
              "\n",
              "<svg xmlns=\"http://www.w3.org/2000/svg\" height=\"24px\"viewBox=\"0 0 24 24\"\n",
              "     width=\"24px\">\n",
              "    <g>\n",
              "        <path d=\"M19 3H5c-1.1 0-2 .9-2 2v14c0 1.1.9 2 2 2h14c1.1 0 2-.9 2-2V5c0-1.1-.9-2-2-2zM9 17H7v-7h2v7zm4 0h-2V7h2v10zm4 0h-2v-4h2v4z\"/>\n",
              "    </g>\n",
              "</svg>\n",
              "  </button>\n",
              "\n",
              "<style>\n",
              "  .colab-df-quickchart {\n",
              "      --bg-color: #E8F0FE;\n",
              "      --fill-color: #1967D2;\n",
              "      --hover-bg-color: #E2EBFA;\n",
              "      --hover-fill-color: #174EA6;\n",
              "      --disabled-fill-color: #AAA;\n",
              "      --disabled-bg-color: #DDD;\n",
              "  }\n",
              "\n",
              "  [theme=dark] .colab-df-quickchart {\n",
              "      --bg-color: #3B4455;\n",
              "      --fill-color: #D2E3FC;\n",
              "      --hover-bg-color: #434B5C;\n",
              "      --hover-fill-color: #FFFFFF;\n",
              "      --disabled-bg-color: #3B4455;\n",
              "      --disabled-fill-color: #666;\n",
              "  }\n",
              "\n",
              "  .colab-df-quickchart {\n",
              "    background-color: var(--bg-color);\n",
              "    border: none;\n",
              "    border-radius: 50%;\n",
              "    cursor: pointer;\n",
              "    display: none;\n",
              "    fill: var(--fill-color);\n",
              "    height: 32px;\n",
              "    padding: 0;\n",
              "    width: 32px;\n",
              "  }\n",
              "\n",
              "  .colab-df-quickchart:hover {\n",
              "    background-color: var(--hover-bg-color);\n",
              "    box-shadow: 0 1px 2px rgba(60, 64, 67, 0.3), 0 1px 3px 1px rgba(60, 64, 67, 0.15);\n",
              "    fill: var(--button-hover-fill-color);\n",
              "  }\n",
              "\n",
              "  .colab-df-quickchart-complete:disabled,\n",
              "  .colab-df-quickchart-complete:disabled:hover {\n",
              "    background-color: var(--disabled-bg-color);\n",
              "    fill: var(--disabled-fill-color);\n",
              "    box-shadow: none;\n",
              "  }\n",
              "\n",
              "  .colab-df-spinner {\n",
              "    border: 2px solid var(--fill-color);\n",
              "    border-color: transparent;\n",
              "    border-bottom-color: var(--fill-color);\n",
              "    animation:\n",
              "      spin 1s steps(1) infinite;\n",
              "  }\n",
              "\n",
              "  @keyframes spin {\n",
              "    0% {\n",
              "      border-color: transparent;\n",
              "      border-bottom-color: var(--fill-color);\n",
              "      border-left-color: var(--fill-color);\n",
              "    }\n",
              "    20% {\n",
              "      border-color: transparent;\n",
              "      border-left-color: var(--fill-color);\n",
              "      border-top-color: var(--fill-color);\n",
              "    }\n",
              "    30% {\n",
              "      border-color: transparent;\n",
              "      border-left-color: var(--fill-color);\n",
              "      border-top-color: var(--fill-color);\n",
              "      border-right-color: var(--fill-color);\n",
              "    }\n",
              "    40% {\n",
              "      border-color: transparent;\n",
              "      border-right-color: var(--fill-color);\n",
              "      border-top-color: var(--fill-color);\n",
              "    }\n",
              "    60% {\n",
              "      border-color: transparent;\n",
              "      border-right-color: var(--fill-color);\n",
              "    }\n",
              "    80% {\n",
              "      border-color: transparent;\n",
              "      border-right-color: var(--fill-color);\n",
              "      border-bottom-color: var(--fill-color);\n",
              "    }\n",
              "    90% {\n",
              "      border-color: transparent;\n",
              "      border-bottom-color: var(--fill-color);\n",
              "    }\n",
              "  }\n",
              "</style>\n",
              "\n",
              "  <script>\n",
              "    async function quickchart(key) {\n",
              "      const quickchartButtonEl =\n",
              "        document.querySelector('#' + key + ' button');\n",
              "      quickchartButtonEl.disabled = true;  // To prevent multiple clicks.\n",
              "      quickchartButtonEl.classList.add('colab-df-spinner');\n",
              "      try {\n",
              "        const charts = await google.colab.kernel.invokeFunction(\n",
              "            'suggestCharts', [key], {});\n",
              "      } catch (error) {\n",
              "        console.error('Error during call to suggestCharts:', error);\n",
              "      }\n",
              "      quickchartButtonEl.classList.remove('colab-df-spinner');\n",
              "      quickchartButtonEl.classList.add('colab-df-quickchart-complete');\n",
              "    }\n",
              "    (() => {\n",
              "      let quickchartButtonEl =\n",
              "        document.querySelector('#df-4d4da14f-e06a-48e0-bbfc-7c7cb5c95522 button');\n",
              "      quickchartButtonEl.style.display =\n",
              "        google.colab.kernel.accessAllowed ? 'block' : 'none';\n",
              "    })();\n",
              "  </script>\n",
              "</div>\n",
              "\n",
              "    </div>\n",
              "  </div>\n"
            ],
            "application/vnd.google.colaboratory.intrinsic+json": {
              "type": "dataframe",
              "variable_name": "df"
            }
          },
          "metadata": {},
          "execution_count": 56
        }
      ]
    },
    {
      "cell_type": "code",
      "source": [
        "df.info()"
      ],
      "metadata": {
        "colab": {
          "base_uri": "https://localhost:8080/"
        },
        "id": "BJj3JHyb7w8t",
        "outputId": "5c2257ef-1341-4b28-f930-c60b6fe21e07"
      },
      "execution_count": 57,
      "outputs": [
        {
          "output_type": "stream",
          "name": "stdout",
          "text": [
            "<class 'pandas.core.frame.DataFrame'>\n",
            "RangeIndex: 10000 entries, 0 to 9999\n",
            "Data columns (total 26 columns):\n",
            " #   Column                   Non-Null Count  Dtype \n",
            "---  ------                   --------------  ----- \n",
            " 0   Patient_ID               10000 non-null  int64 \n",
            " 1   State_Name               10000 non-null  object\n",
            " 2   Age                      10000 non-null  int64 \n",
            " 3   Gender                   10000 non-null  object\n",
            " 4   Diabetes                 10000 non-null  int64 \n",
            " 5   Hypertension             10000 non-null  int64 \n",
            " 6   Obesity                  10000 non-null  int64 \n",
            " 7   Smoking                  10000 non-null  int64 \n",
            " 8   Alcohol_Consumption      10000 non-null  int64 \n",
            " 9   Physical_Activity        10000 non-null  int64 \n",
            " 10  Diet_Score               10000 non-null  int64 \n",
            " 11  Cholesterol_Level        10000 non-null  int64 \n",
            " 12  Triglyceride_Level       10000 non-null  int64 \n",
            " 13  LDL_Level                10000 non-null  int64 \n",
            " 14  HDL_Level                10000 non-null  int64 \n",
            " 15  Systolic_BP              10000 non-null  int64 \n",
            " 16  Diastolic_BP             10000 non-null  int64 \n",
            " 17  Air_Pollution_Exposure   10000 non-null  int64 \n",
            " 18  Family_History           10000 non-null  int64 \n",
            " 19  Stress_Level             10000 non-null  int64 \n",
            " 20  Healthcare_Access        10000 non-null  int64 \n",
            " 21  Heart_Attack_History     10000 non-null  int64 \n",
            " 22  Emergency_Response_Time  10000 non-null  int64 \n",
            " 23  Annual_Income            10000 non-null  int64 \n",
            " 24  Health_Insurance         10000 non-null  int64 \n",
            " 25  Heart_Attack_Risk        10000 non-null  int64 \n",
            "dtypes: int64(24), object(2)\n",
            "memory usage: 2.0+ MB\n"
          ]
        }
      ]
    },
    {
      "cell_type": "markdown",
      "source": [
        "# Training Model\n",
        "\n",
        "The model that is used is a simple logistic regression model from Sklearn and then converted to a Tensor Model. A logistic regression model estimates the probability of an event, in this case heart disease, occuring using the given data.\n",
        "\n",
        "The model trained gets a prediction accuracy rate of 71.75%."
      ],
      "metadata": {
        "id": "SbhzzwnDunVJ"
      }
    },
    {
      "cell_type": "code",
      "execution_count": 58,
      "metadata": {
        "id": "WGmY8RaRugYu"
      },
      "outputs": [],
      "source": [
        "from sklearn.compose import ColumnTransformer\n",
        "from sklearn.model_selection import train_test_split\n",
        "from sklearn.preprocessing import StandardScaler, OneHotEncoder\n",
        "\n",
        "# Split Dataset\n",
        "x = df.drop('Heart_Attack_Risk', axis=1)\n",
        "y = df['Heart_Attack_Risk']\n",
        "\n",
        "x_train, x_test, y_train, y_test = train_test_split(x, y, test_size=0.2, random_state=2)\n",
        "\n",
        "ct = ColumnTransformer(\n",
        "    transformers= [('onehot', OneHotEncoder(drop='first'), ['State_Name', 'Gender']), # Expands number of features thrugh one hot encoding (0, 1)\n",
        "                   ('normal', StandardScaler(),\n",
        "                    ['Diastolic_BP', 'Annual_Income', 'Emergency_Response_Time', 'Systolic_BP', 'Cholesterol_Level', 'Triglyceride_Level', 'LDL_Level', 'HDL_Level']) # Keeps feature count the same\n",
        "                  ], remainder='passthrough') # Remaining columns kept as they are (no transformation)\n",
        "\n",
        "x_train = ct.fit_transform(x_train)\n",
        "x_test = ct.transform(x_test)"
      ]
    },
    {
      "cell_type": "code",
      "source": [
        "from sklearn.linear_model import LogisticRegression\n",
        "from sklearn.metrics import accuracy_score, confusion_matrix\n",
        "\n",
        "# Logistic Regression Model\n",
        "model = LogisticRegression(max_iter=2000)\n",
        "\n",
        "# Train Model\n",
        "model.fit(x_train, y_train)\n",
        "\n",
        "# Test Model Accuracy\n",
        "y_pred = model.predict(x_test)\n",
        "print(f'Accuracy Score: {accuracy_score(y_test, y_pred) * 100}%')"
      ],
      "metadata": {
        "colab": {
          "base_uri": "https://localhost:8080/"
        },
        "id": "e2yKg9qB4vB8",
        "outputId": "26385b37-d385-4c80-fbf6-8491148bb79e"
      },
      "execution_count": 59,
      "outputs": [
        {
          "output_type": "stream",
          "name": "stdout",
          "text": [
            "Accuracy Score: 71.75%\n"
          ]
        }
      ]
    },
    {
      "cell_type": "code",
      "source": [
        "import torch\n",
        "import torch.nn as nn\n",
        "\n",
        "\n",
        "class LogisticRegression(nn.Module):\n",
        "    def __init__(self, input_dim):\n",
        "        super(LogisticRegression, self).__init__()\n",
        "        self.linear = nn.Linear(input_dim, 1)\n",
        "\n",
        "    def forward(self, x):\n",
        "        return torch.sigmoid(self.linear(x))"
      ],
      "metadata": {
        "id": "bodk35HlD61d"
      },
      "execution_count": 60,
      "outputs": []
    },
    {
      "cell_type": "code",
      "source": [
        "# Convert to Torch Model for EZKL\n",
        "\n",
        "# Get sklearn model weights and bias\n",
        "weights = model.coef_  # Shape: (1, n_features)\n",
        "bias = model.intercept_  # Shape: (1,)\n",
        "\n",
        "# Create Torch model\n",
        "input_dim = x_train.shape[1]\n",
        "torch_model = LogisticRegression(input_dim)\n",
        "\n",
        "# Convert sklearn weights to PyTorch tensors and assign them\n",
        "torch_model.linear.weight = nn.Parameter(torch.tensor(weights, dtype=torch.float32))\n",
        "torch_model.linear.bias = nn.Parameter(torch.tensor(bias, dtype=torch.float32))"
      ],
      "metadata": {
        "id": "-TQ5NZc2Ks0H"
      },
      "execution_count": 61,
      "outputs": []
    },
    {
      "cell_type": "code",
      "source": [
        "# Testing torch model to ensure same result\n",
        "\n",
        "# Convert test data to tensor\n",
        "x_test_torch = torch.tensor(x_test, dtype=torch.float32)\n",
        "y__test_torch = torch.tensor(y_test.tolist(), dtype=torch.float32)\n",
        "\n",
        "torch_model.eval()\n",
        "\n",
        "with torch.no_grad():\n",
        "  # Get model predictions and convert them to int (0 or 1 tells us no or yes to heart disease risk)\n",
        "  y_pred_probs = torch_model(x_test_torch).squeeze()\n",
        "  y_pred_labels = (y_pred_probs >= 0.5).int()  # Convert to binary labels\n",
        "\n",
        "# Check accuracy\n",
        "accuracy = accuracy_score(y_torch, y_pred_labels.numpy())  # Compare with true labels\n",
        "\n",
        "print(f\"PyTorch Accuracy: {accuracy * 100:.2f}%\")"
      ],
      "metadata": {
        "colab": {
          "base_uri": "https://localhost:8080/"
        },
        "id": "9jDyN_T2K9Pt",
        "outputId": "97507633-1237-4712-ae83-567ad0b7fa2c"
      },
      "execution_count": 62,
      "outputs": [
        {
          "output_type": "stream",
          "name": "stdout",
          "text": [
            "PyTorch Accuracy: 71.75%\n"
          ]
        }
      ]
    },
    {
      "cell_type": "markdown",
      "source": [
        "# Implementing EZKL circuit"
      ],
      "metadata": {
        "id": "s0cKeEHTus4K"
      }
    },
    {
      "cell_type": "code",
      "source": [
        "# check if notebook is in colab\n",
        "try:\n",
        "    import google.colab\n",
        "    import subprocess\n",
        "    import sys\n",
        "    subprocess.check_call([sys.executable, \"-m\", \"pip\", \"install\", \"ezkl\"])\n",
        "    subprocess.check_call([sys.executable, \"-m\", \"pip\", \"install\", \"onnx\"])\n",
        "\n",
        "# rely on local installation of ezkl if the notebook is not in colab\n",
        "except:\n",
        "    pass\n",
        "\n",
        "import os\n",
        "import json\n",
        "import ezkl"
      ],
      "metadata": {
        "id": "BFGBKqwfuvi4"
      },
      "execution_count": 63,
      "outputs": []
    },
    {
      "cell_type": "code",
      "source": [
        "# Required Files for EZKL\n",
        "model_path = os.path.join('network.onnx')\n",
        "data_path = os.path.join('input.json')\n",
        "cal_data_path = os.path.join('calibration.json')"
      ],
      "metadata": {
        "id": "rbT-S3mU_8JO"
      },
      "execution_count": 64,
      "outputs": []
    },
    {
      "cell_type": "code",
      "source": [
        "# Create a random input\n",
        "x = torch.tensor(x_test[0], dtype=torch.float32).unsqueeze(0)"
      ],
      "metadata": {
        "id": "SQt_QZ_fPef0"
      },
      "execution_count": 80,
      "outputs": []
    },
    {
      "cell_type": "code",
      "source": [
        "# Convert model to ONNX\n",
        "\n",
        "# Export the model\n",
        "torch.onnx.export(torch_model,                                   # model being run\n",
        "                  x,                                             # model input\n",
        "                  model_path,                                    # where to save the model\n",
        "                  export_params=True,                            # store the trained parameter weights inside the model file\n",
        "                  opset_version=10,                              # the ONNX version to export the model to\n",
        "                  do_constant_folding=True,                      # whether to execute constant folding for optimization\n",
        "                  input_names = ['input'],                       # the model's input names\n",
        "                  output_names = ['output'],                     # the model's output names\n",
        "                  dynamic_axes={'input' : {0 : 'batch_size'},    # variable length axes\n",
        "                                'output' : {0 : 'batch_size'}})\n",
        "\n",
        "data_array = ((x).detach().numpy()).reshape([-1]).tolist()\n",
        "\n",
        "data = dict(input_data = [data_array])\n",
        "\n",
        "# Serialize data into file:\n",
        "json.dump(data, open(data_path, 'w'))"
      ],
      "metadata": {
        "id": "8s7cyqrSAQXR"
      },
      "execution_count": 82,
      "outputs": []
    },
    {
      "cell_type": "code",
      "source": [
        "!RUST_LOG=trace\n",
        "# TODO: Dictionary outputs\n",
        "res = ezkl.gen_settings()\n",
        "assert res == True"
      ],
      "metadata": {
        "id": "WGe8SIwkBEYE"
      },
      "execution_count": 83,
      "outputs": []
    },
    {
      "cell_type": "code",
      "source": [
        "# use the test set to calibrate the circuit\n",
        "cal_data = dict(input_data = x_test_torch.flatten().tolist())\n",
        "\n",
        "# Serialize calibration data into file:\n",
        "json.dump(data, open(cal_data_path, 'w'))\n",
        "\n",
        "# Optimize for resources, we cap logrows at 12 to reduce setup and proving time, at the expense of accuracy\n",
        "# You may want to increase the max logrows if accuracy is a concern\n",
        "res = await ezkl.calibrate_settings(target = \"resources\", max_logrows = 50, scales = [14])"
      ],
      "metadata": {
        "colab": {
          "base_uri": "https://localhost:8080/"
        },
        "id": "uT1Xo_QrNMbz",
        "outputId": "0fc08910-2154-477d-c2c7-f11698a8997a"
      },
      "execution_count": 84,
      "outputs": [
        {
          "output_type": "stream",
          "name": "stderr",
          "text": [
            "WARNING:ezkl.circuit.table:Using 6 columns for non-linearity table.\n",
            "WARNING:ezkl.circuit.table:Using 12 columns for non-linearity table.\n",
            "WARNING:ezkl.execute:\n",
            "\n",
            " <------------- Numerical Fidelity Report (input_scale: 14, param_scale: 14, scale_input_multiplier: 1) ------------->\n",
            "\n",
            "+-------------+--------------+-------------+-------------+----------------+------------------+---------------+---------------+--------------------+--------------------+------------------------+\n",
            "| mean_error  | median_error | max_error   | min_error   | mean_abs_error | median_abs_error | max_abs_error | min_abs_error | mean_squared_error | mean_percent_error | mean_abs_percent_error |\n",
            "+-------------+--------------+-------------+-------------+----------------+------------------+---------------+---------------+--------------------+--------------------+------------------------+\n",
            "| 0.025770724 | 0.025770724  | 0.025770724 | 0.025770724 | 0.025770724    | 0.025770724      | 0.025770724   | 0.025770724   | 0.0006641302       | 0.07327505         | 0.07327505             |\n",
            "+-------------+--------------+-------------+-------------+----------------+------------------+---------------+---------------+--------------------+--------------------+------------------------+\n",
            "\n",
            "\n"
          ]
        }
      ]
    },
    {
      "cell_type": "code",
      "source": [
        "res = ezkl.compile_circuit()\n",
        "assert res == True"
      ],
      "metadata": {
        "id": "IlWR-WZcNdhK"
      },
      "execution_count": 85,
      "outputs": []
    },
    {
      "cell_type": "code",
      "source": [
        "res = await ezkl.get_srs()"
      ],
      "metadata": {
        "id": "dHL9cEoDPC5f"
      },
      "execution_count": 86,
      "outputs": []
    },
    {
      "cell_type": "code",
      "source": [
        "res = ezkl.setup()\n",
        "assert res == True"
      ],
      "metadata": {
        "id": "Jz4JZiYWPFie"
      },
      "execution_count": 87,
      "outputs": []
    },
    {
      "cell_type": "markdown",
      "source": [
        "# Create Witness"
      ],
      "metadata": {
        "id": "qsCRuKDlQUrO"
      }
    },
    {
      "cell_type": "code",
      "source": [
        "# Generate the Witness for the proof\n",
        "\n",
        "# Generate the witness file\n",
        "witness_path = os.path.join('witness.json')\n",
        "\n",
        "res = await ezkl.gen_witness()\n",
        "assert os.path.isfile(witness_path)"
      ],
      "metadata": {
        "id": "uJd8jRYPPHa1"
      },
      "execution_count": 88,
      "outputs": []
    },
    {
      "cell_type": "code",
      "source": [
        "# Generate the proof\n",
        "proof_path = os.path.join('proof.json')\n",
        "\n",
        "proof = ezkl.prove(proof_type=\"single\", proof_path=proof_path)\n",
        "\n",
        "print(proof)\n",
        "assert os.path.isfile(proof_path)"
      ],
      "metadata": {
        "colab": {
          "base_uri": "https://localhost:8080/"
        },
        "id": "4mHGKwjqPMKu",
        "outputId": "f5d3aba5-3afb-48ee-c86a-6b7c21199094"
      },
      "execution_count": 101,
      "outputs": [
        {
          "output_type": "stream",
          "name": "stdout",
          "text": [
            "{'instances': [['dc14000000000000000000000000000000000000000000000000000000000000']], 'proof': '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', 'transcript_type': 'EVM'}\n"
          ]
        }
      ]
    },
    {
      "cell_type": "code",
      "source": [
        "# Get model prediction on same data\n",
        "i = 4\n",
        "\n",
        "y_pred = torch_model(x_test_torch[i]).squeeze()\n",
        "\n",
        "print(y_pred)\n",
        "print(y_torch[i])"
      ],
      "metadata": {
        "colab": {
          "base_uri": "https://localhost:8080/"
        },
        "id": "WnkD0-OaKT7f",
        "outputId": "2273b92f-90c3-45da-c58d-c81be4e7f19b"
      },
      "execution_count": 112,
      "outputs": [
        {
          "output_type": "stream",
          "name": "stdout",
          "text": [
            "tensor(0.3102, grad_fn=<SqueezeBackward0>)\n",
            "tensor(0.)\n"
          ]
        }
      ]
    },
    {
      "cell_type": "code",
      "source": [
        "# Verify proof\n",
        "res = ezkl.verify()\n",
        "\n",
        "assert res == True\n",
        "print(\"verified\")"
      ],
      "metadata": {
        "colab": {
          "base_uri": "https://localhost:8080/"
        },
        "id": "GLpE8m8mPN-N",
        "outputId": "ac03fcee-cdd6-4a1d-c893-ae30161a24d3"
      },
      "execution_count": 97,
      "outputs": [
        {
          "output_type": "stream",
          "name": "stdout",
          "text": [
            "verified\n"
          ]
        }
      ]
    },
    {
      "cell_type": "markdown",
      "source": [
        "# Create Verifier"
      ],
      "metadata": {
        "id": "OfFw369-QYlj"
      }
    },
    {
      "cell_type": "code",
      "source": [
        "# Check if notebook is in colab\n",
        "try:\n",
        "    import google.colab\n",
        "    import subprocess\n",
        "    import sys\n",
        "    subprocess.check_call([sys.executable, \"-m\", \"pip\", \"install\", \"solc-select\"])\n",
        "    !solc-select install 0.8.20\n",
        "    !solc-select use 0.8.20\n",
        "    !solc --version\n",
        "\n",
        "# Rely on local installation if the notebook is not in colab\n",
        "except:\n",
        "    pass"
      ],
      "metadata": {
        "colab": {
          "base_uri": "https://localhost:8080/"
        },
        "id": "erNj_NIFPPbn",
        "outputId": "69f52e1b-b7f0-4684-e2bb-af27f42d3f2d"
      },
      "execution_count": 91,
      "outputs": [
        {
          "output_type": "stream",
          "name": "stdout",
          "text": [
            "Installing solc '0.8.20'...\n",
            "Version '0.8.20' installed.\n",
            "Switched global version to 0.8.20\n",
            "solc, the solidity compiler commandline interface\n",
            "Version: 0.8.20+commit.a1b79de6.Linux.g++\n"
          ]
        }
      ]
    },
    {
      "cell_type": "code",
      "source": [
        "sol_code_path = os.path.join('Verifier.sol')\n",
        "abi_path = os.path.join('Verifier.abi')\n",
        "\n",
        "res = await ezkl.create_evm_verifier(\n",
        "        sol_code_path=sol_code_path,\n",
        "        abi_path=abi_path,\n",
        "    )\n",
        "\n",
        "assert res == True\n",
        "assert os.path.isfile(sol_code_path)"
      ],
      "metadata": {
        "id": "Y9DxPlBcQctY"
      },
      "execution_count": 92,
      "outputs": []
    },
    {
      "cell_type": "code",
      "source": [
        "onchain_input_array = []\n",
        "\n",
        "formatted_output = \"[\"\n",
        "for i, value in enumerate(proof[\"instances\"]):\n",
        "    for j, field_element in enumerate(value):\n",
        "        onchain_input_array.append(ezkl.felt_to_big_endian(field_element))\n",
        "        formatted_output += '\"' + str(onchain_input_array[-1]) + '\"'\n",
        "        if j != len(value) - 1:\n",
        "            formatted_output += \", \"\n",
        "    if i != len(proof[\"instances\"]) - 1:\n",
        "        formatted_output += \", \"\n",
        "formatted_output += \"]\"\n",
        "\n",
        "# This will be the values you use onchain\n",
        "# Copy them over to remix and see if they verify\n",
        "# What happens when you change a value?\n",
        "print(\"pubInputs: \", formatted_output)\n",
        "print(\"proof: \", proof[\"proof\"])"
      ],
      "metadata": {
        "colab": {
          "base_uri": "https://localhost:8080/"
        },
        "id": "pJtaBffzQqVp",
        "outputId": "be1f0232-1d80-4426-a6a2-7af0a60ed30b"
      },
      "execution_count": 93,
      "outputs": [
        {
          "output_type": "stream",
          "name": "stdout",
          "text": [
            "pubInputs:  [\"0x00000000000000000000000000000000000000000000000000000000000014dc\"]\n",
            "proof:  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\n"
          ]
        }
      ]
    }
  ]
}